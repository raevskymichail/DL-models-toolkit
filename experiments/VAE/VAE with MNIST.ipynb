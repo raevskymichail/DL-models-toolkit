{
 "cells": [
  {
   "cell_type": "code",
   "execution_count": 3,
   "metadata": {
    "collapsed": true
   },
   "outputs": [],
   "source": [
    "import sys\n",
    "sys.path.append('../../../util/')\n",
    "import tfutil\n",
    "import numpy as np\n",
    "import matplotlib.pyplot as plt\n",
    "import seaborn as sns\n",
    "\n",
    "from os import listdir\n",
    "from os.path import isfile, join\n",
    "\n",
    "import tensorflow as tf\n",
    "import tensorflow.contrib.slim as slim\n",
    "\n",
    "import maxcell\n",
    "\n",
    "\n",
    "from IPython import display"
   ]
  },
  {
   "cell_type": "markdown",
   "metadata": {},
   "source": [
    "# Loading MNIST hand writing digit data."
   ]
  },
  {
   "cell_type": "code",
   "execution_count": 4,
   "metadata": {},
   "outputs": [
    {
     "name": "stdout",
     "output_type": "stream",
     "text": [
      "Extracting MNIST_data/train-images-idx3-ubyte.gz\n",
      "Extracting MNIST_data/train-labels-idx1-ubyte.gz\n",
      "Extracting MNIST_data/t10k-images-idx3-ubyte.gz\n",
      "Extracting MNIST_data/t10k-labels-idx1-ubyte.gz\n"
     ]
    }
   ],
   "source": [
    "from tensorflow.examples.tutorials.mnist import input_data\n",
    "mnist = input_data.read_data_sets(\"MNIST_data/\", one_hot=True)"
   ]
  },
  {
   "cell_type": "code",
   "execution_count": 5,
   "metadata": {
    "collapsed": true
   },
   "outputs": [],
   "source": [
    "X = mnist.train._images.reshape(55000,28,28)\n",
    "Y = mnist.train._labels\n",
    "index = np.arange(55000)\n",
    "np.random.shuffle(index)\n",
    "\n",
    "bf = tfutil.BatchFeeder(X[index[:54000]], Y[index[:54000]])\n",
    "valid_data = (X[index[54000:]], Y[index[54000:]])"
   ]
  },
  {
   "cell_type": "code",
   "execution_count": 6,
   "metadata": {},
   "outputs": [
    {
     "name": "stdout",
     "output_type": "stream",
     "text": [
      "Answer: 1\n"
     ]
    },
    {
     "data": {
      "image/png": "[encoded data removed]",
      "text/plain": [
       "<matplotlib.figure.Figure at 0x7efdbf047890>"
      ]
     },
     "metadata": {},
     "output_type": "display_data"
    }
   ],
   "source": [
    "index = 0\n",
    "Xt, Yt = bf.next(10)\n",
    "print \"Answer:\", np.argmax(Yt[index])\n",
    "plt.figure(figsize=(1.5,1.5))\n",
    "plt.imshow(Xt[index].reshape(28,28))\n",
    "plt.yticks([],[])\n",
    "plt.xticks([],[])\n",
    "plt.show()"
   ]
  },
  {
   "cell_type": "markdown",
   "metadata": {},
   "source": [
    "# Building a VAE model with MLP encoder and decoder."
   ]
  },
  {
   "cell_type": "markdown",
   "metadata": {},
   "source": [
    "Defining a utility function"
   ]
  },
  {
   "cell_type": "code",
   "execution_count": 7,
   "metadata": {
    "collapsed": true
   },
   "outputs": [],
   "source": [
    "# Resets the graphs to defualt\n",
    "def reset_graph():\n",
    "    if 'sess' in globals() and sess:\n",
    "        sess.close()\n",
    "    tf.reset_default_graph()"
   ]
  },
  {
   "cell_type": "markdown",
   "metadata": {},
   "source": [
    "Defining loss related functions."
   ]
  },
  {
   "cell_type": "code",
   "execution_count": 8,
   "metadata": {
    "collapsed": true
   },
   "outputs": [],
   "source": [
    "# Calculates KL divergence between diagonal zero-mean unit-variance guass\n",
    "# and latent gaussian distributions. \n",
    "def kullbackLeibler(mu, log_sigma):\n",
    "    with tf.name_scope(\"KL_divergence\"):\n",
    "        return -0.5 * tf.reduce_sum(1 + 2 * log_sigma - mu**2 -\n",
    "                                    tf.exp(2 * log_sigma), 1)\n",
    "# KL2   \n",
    "def kullbackLeibler2(mu, log_sigma):\n",
    "    with tf.name_scope(\"KL_divergence\"):\n",
    "        return -0.5 * (1 + 2 * log_sigma - mu**2 -\n",
    "                                    tf.exp(2 * log_sigma))\n",
    "    \n",
    "# Samples from latent guassian distributions using reparameterization tricks. \n",
    "def reparametrization_trick(mu, log_sigma):\n",
    "    epsilon = tf.random_normal(tf.shape(log_sigma), name=\"epsilon\")\n",
    "    return mu + epsilon * tf.exp(log_sigma)\n",
    "\n",
    "# Calculates reconstruction loss of VAE.\n",
    "def crossEntropy(obs, actual, offset=1e-7):\n",
    "    with tf.name_scope(\"cross_entropy\"):\n",
    "        obs_ = tf.clip_by_value(obs, offset, 1 - offset)\n",
    "        return -tf.reduce_sum(actual * tf.log(obs_) +\n",
    "                              (1 - actual) * tf.log(1 - obs_), 1)"
   ]
  },
  {
   "cell_type": "code",
   "execution_count": 9,
   "metadata": {
    "collapsed": true
   },
   "outputs": [],
   "source": [
    "# Renyi Divergence between Gaussians p and 0-mean unit variance gaussian. \n",
    "def renyi_gauss(alpha, mu, log_sigma, q_mu=0, q_var=1):\n",
    "    p_mu = mu\n",
    "    p_var = tf.exp(2*log_sigma)\n",
    "    alpha_var = alpha * q_var + (1-alpha) * p_var\n",
    "    renyi_divergence = 0.5 * (tf.log(q_var + 1e-8) - tf.log(p_var + 1e-8)) \\\n",
    "                       + 0.5 * (tf.log(q_var + 1e-8) - tf.log(alpha_var + 1e-8)) / (alpha - 1) \\\n",
    "                       + alpha * tf.square(p_mu - q_mu) / (2 * alpha_var + 1e-8)\n",
    "    return renyi_divergence"
   ]
  },
  {
   "cell_type": "code",
   "execution_count": 10,
   "metadata": {
    "collapsed": true
   },
   "outputs": [],
   "source": [
    "def renyi_divergence(alpha, mu, log_sigma):\n",
    "    return tf.cond(alpha<1.0, lambda: renyi_gauss(alpha, mu, log_sigma), lambda: kullbackLeibler2(mu, log_sigma))\n"
   ]
  },
  {
   "cell_type": "markdown",
   "metadata": {},
   "source": [
    "Defining a simple pair of encoder and decoder"
   ]
  },
  {
   "cell_type": "code",
   "execution_count": 394,
   "metadata": {
    "collapsed": true
   },
   "outputs": [],
   "source": [
    "# 3 layers MLP\n",
    "def DNN_encoder(_input, latent_size=2, fn=tf.nn.sigmoid):\n",
    "    fc = slim.fully_connected(_input, 500, activation_fn=fn)\n",
    "    #fc = slim.fully_connected(fc, 250, activation_fn=fn)\n",
    "    fc = slim.fully_connected(fc, 100, activation_fn=fn)\n",
    "    _output = slim.fully_connected(fc, latent_size, activation_fn=fn)\n",
    "    return dict(\n",
    "    latent = _output,\n",
    "    )"
   ]
  },
  {
   "cell_type": "code",
   "execution_count": 395,
   "metadata": {
    "collapsed": true
   },
   "outputs": [],
   "source": [
    "# 3 layers MLP\n",
    "def DNN_decoder(_input, output_size=784, fn=tf.nn.sigmoid, reuse=None):\n",
    "    with tf.variable_scope(\"decoder\", reuse=reuse):\n",
    "        fc = slim.fully_connected(_input, 100, activation_fn=fn)\n",
    "        #fc = slim.fully_connected(fc, 250, activation_fn=fn)\n",
    "        fc = slim.fully_connected(fc, 500, activation_fn=fn)\n",
    "        _output = slim.fully_connected(fc, output_size, activation_fn=fn)\n",
    "        return dict(\n",
    "        reconstruction = _output,\n",
    "        )"
   ]
  },
  {
   "cell_type": "markdown",
   "metadata": {},
   "source": [
    "Defining the wrapping VAE model."
   ]
  },
  {
   "cell_type": "code",
   "execution_count": 396,
   "metadata": {
    "collapsed": true
   },
   "outputs": [],
   "source": [
    "def VAE(enc, dec):\n",
    "    reset_graph()\n",
    "    \n",
    "    #Data loading and flattening\n",
    "    data = tf.placeholder(tf.float32, (None, 28, 28))\n",
    "    flattened = tf.contrib.layers.flatten(data)\n",
    "    \n",
    "    #Data through encoder\n",
    "    encoder = enc(flattened, latent_size=10)\n",
    "    \n",
    "    #Variational part\n",
    "    mu = slim.fully_connected(encoder['latent'], 2, activation_fn=None)\n",
    "    sigma = slim.fully_connected(encoder['latent'], 2, activation_fn=None)\n",
    "    \n",
    "    #Sample from the specified latent distributions\n",
    "    latent = reparametrization_trick(mu, sigma)\n",
    "    \n",
    "    #Data through decoder\n",
    "    decoder = dec(latent)\n",
    "    reconstruction = decoder['reconstruction']\n",
    "    \n",
    "    #Calclating loss\n",
    "    reconstruction_loss = tf.reduce_mean(crossEntropy(reconstruction, flattened))\n",
    "    KL_divergence = tf.reduce_mean(kullbackLeibler(mu, sigma))\n",
    "    KL_trigger = tf.placeholder(tf.float32)\n",
    "    loss = reconstruction_loss + KL_divergence*KL_trigger\n",
    "    \n",
    "    #Training with Adam optimizer with default learning rate. \n",
    "    train = tf.train.AdamOptimizer(0.0005).minimize(loss)\n",
    "    \n",
    "    return dict(\n",
    "    data = data,\n",
    "    train = train,\n",
    "    reconstruction = reconstruction,\n",
    "    loss = loss,\n",
    "    latent = latent,\n",
    "    mu = mu,\n",
    "    sigma = sigma,\n",
    "    trigger = KL_trigger,\n",
    "    kl = tf.reduce_mean(kullbackLeibler2(mu, sigma), axis=0),\n",
    "    rl = reconstruction_loss,\n",
    "    saver = tf.train.Saver()\n",
    "    )"
   ]
  },
  {
   "cell_type": "code",
   "execution_count": 397,
   "metadata": {
    "collapsed": true
   },
   "outputs": [],
   "source": [
    "def VAE_renyi(enc, dec):\n",
    "    reset_graph()\n",
    "    \n",
    "    #Data loading and flattening\n",
    "    data = tf.placeholder(tf.float32, (None, 28, 28))\n",
    "    flattened = tf.contrib.layers.flatten(data)\n",
    "    \n",
    "    #Data through encoder\n",
    "    encoder = enc(flattened, latent_size=10)\n",
    "    \n",
    "    #Variational part\n",
    "    mu = slim.fully_connected(encoder['latent'], 2, activation_fn=None)\n",
    "    sigma = slim.fully_connected(encoder['latent'], 2, activation_fn=None)\n",
    "    \n",
    "    #Sample from the specified latent distributions\n",
    "    latent = reparametrization_trick(mu, sigma)\n",
    "    \n",
    "    #Data through decoder\n",
    "    decoder = dec(latent)\n",
    "    reconstruction = decoder['reconstruction']\n",
    "    \n",
    "    #Calclating loss\n",
    "    #Reconstruction\n",
    "    reconstruction_loss = tf.reduce_mean(crossEntropy(reconstruction, flattened))\n",
    "    \n",
    "    #Divergence from 0 mean unit gauss\n",
    "    KL_trigger = tf.placeholder(tf.float32)\n",
    "    divergence = tf.reduce_mean(renyi_divergence(KL_trigger, mu, sigma))\n",
    "    loss = reconstruction_loss + divergence\n",
    "    \n",
    "    #Training with Adam optimizer with default learning rate. \n",
    "    train = tf.train.AdamOptimizer(0.0005).minimize(loss)\n",
    "    \n",
    "    return dict(\n",
    "    data = data,\n",
    "    train = train,\n",
    "    reconstruction = reconstruction,\n",
    "    loss = loss,\n",
    "    latent = latent,\n",
    "    mu = mu,\n",
    "    sigma = sigma,\n",
    "    trigger = KL_trigger,\n",
    "    kl = tf.reduce_mean(renyi_divergence(KL_trigger, mu, sigma), axis=0),\n",
    "    rl = reconstruction_loss,\n",
    "    saver = tf.train.Saver()\n",
    "    )"
   ]
  },
  {
   "cell_type": "markdown",
   "metadata": {},
   "source": [
    "Training the autoencoder (AE) models"
   ]
  },
  {
   "cell_type": "code",
   "execution_count": 398,
   "metadata": {
    "collapsed": true
   },
   "outputs": [],
   "source": [
    "# Trains network g.\n",
    "def train_network(g, num_epochs, feeder, batchsize, valid, verbose = True, save=False, KLD=0):\n",
    "    # Calculating number of batches per epoch\n",
    "    numbatch = int(np.ceil(feeder.n*1.0/batchsize))\n",
    "    \n",
    "    # Training happens here \n",
    "    with tf.Session() as sess:\n",
    "        # initialize all variables\n",
    "        sess.run(tf.global_variables_initializer())\n",
    "        \n",
    "        # initialize all result holders\n",
    "        losses = [] #holds loss\n",
    "        latents = [] #latent labels\n",
    "        mus = [] #latent labels\n",
    "        sigmas = [] #latent labels\n",
    "        ys = [] #true labels\n",
    "        valloss = [] #vaidation reconstrunction loss\n",
    "        \n",
    "        for e in range(num_epochs):\n",
    "            epochwise = []\n",
    "            epochwise_l = []\n",
    "            epochwise_mu = []\n",
    "            epochwise_sigma = []\n",
    "            epochwise_y = [] \n",
    "            for b in range(numbatch):\n",
    "                batch = feeder.next(batchsize)\n",
    "\n",
    "                #Preparing data feeding\n",
    "                if KLD != -1:\n",
    "                    train_feed = {g['data']: batch[0], g['trigger']: KLD}\n",
    "                    c, _, kl, rl, mu, sigma, latent = sess.run([g['loss'], g['train'], g['kl'], g['rl'], g['mu'], g['sigma'], g['latent']], feed_dict=train_feed)\n",
    "                else:\n",
    "                    train_feed = {g['data']: batch[0], g['trigger']: min(e*1.0/20, 1.0) }\n",
    "                    c, _, kl, rl, mu, sigma, latent = sess.run([g['loss'], g['train'], g['kl'], g['rl'], g['mu'], g['sigma'], g['latent']], feed_dict=train_feed)\n",
    "                \n",
    "                #Recording learning trajectory \n",
    "                epochwise.append([c, kl[0], kl[1], rl])\n",
    "                epochwise_l.append(latent)\n",
    "                epochwise_y.append(batch[1])\n",
    "                epochwise_mu.append(mu)\n",
    "                epochwise_sigma.append(sigma)\n",
    "                \n",
    "            rl = sess.run(g['rl'], feed_dict={g['data']: valid[0]})\n",
    "            valloss.append(rl)\n",
    "\n",
    "            losses.append(epochwise)\n",
    "            latents.append(epochwise_l)\n",
    "            mus.append(epochwise_mu)\n",
    "            sigmas.append(epochwise_sigma)\n",
    "            ys.append(epochwise_y)\n",
    "            ew = np.array(epochwise)\n",
    "            if verbose: print \"e:\", np.mean(ew, axis=0), rl\n",
    "\n",
    "        # Save if path is given.\n",
    "        if isinstance(save, str):\n",
    "            print \"Saving to\", save\n",
    "            g['saver'].save(sess, save)\n",
    "\n",
    "    return np.array(losses), np.array(latents), np.array(ys), np.array(mus), np.array(sigmas), np.array(valloss)"
   ]
  },
  {
   "cell_type": "code",
   "execution_count": 399,
   "metadata": {
    "collapsed": true
   },
   "outputs": [],
   "source": [
    "g = VAE(DNN_encoder, DNN_decoder)"
   ]
  },
  {
   "cell_type": "code",
   "execution_count": 400,
   "metadata": {},
   "outputs": [
    {
     "name": "stdout",
     "output_type": "stream",
     "text": [
      "Saving to VAE_wo_warmup/model\n"
     ]
    }
   ],
   "source": [
    "# VAE without warmup\n",
    "losses1, latents1, ys1, mus1, sigmas1, valloss1 = train_network(g, 50, bf, 64, valid_data, save=\"VAE_wo_warmup/model\", verbose=False, KLD=1)"
   ]
  },
  {
   "cell_type": "code",
   "execution_count": 401,
   "metadata": {},
   "outputs": [
    {
     "name": "stdout",
     "output_type": "stream",
     "text": [
      "Saving to VAE_w_warmup/model\n"
     ]
    }
   ],
   "source": [
    "# VAE with warmup \n",
    "losses2, latents2, ys2, mus2, sigmas2, valloss2 = train_network(g, 50, bf, 64, valid_data, save=\"VAE_w_warmup/model\", verbose=False, KLD=-1)"
   ]
  },
  {
   "cell_type": "code",
   "execution_count": 402,
   "metadata": {
    "scrolled": true
   },
   "outputs": [
    {
     "name": "stdout",
     "output_type": "stream",
     "text": [
      "Saving to NO-KLD/model\n"
     ]
    }
   ],
   "source": [
    "# VAE without KLD\n",
    "losses3, latents3, ys3, mus3, sigmas3, valloss3 = train_network(g, 50, bf, 64, valid_data, save=\"NO-KLD/model\", verbose=False, KLD=0)"
   ]
  },
  {
   "cell_type": "code",
   "execution_count": 403,
   "metadata": {
    "collapsed": true
   },
   "outputs": [],
   "source": [
    "# VAE with renyi divergence loss\n",
    "vae_renyi = VAE_renyi(DNN_encoder, DNN_decoder)"
   ]
  },
  {
   "cell_type": "code",
   "execution_count": 404,
   "metadata": {},
   "outputs": [
    {
     "name": "stdout",
     "output_type": "stream",
     "text": [
      "Saving to VAE_renyi/model\n"
     ]
    }
   ],
   "source": [
    "# VAE with Renyi divergence\n",
    "losses4, latents4, ys4, mus4, sigmas4, valloss4 = train_network(vae_renyi, 50, bf, 64, valid_data, save=\"VAE_renyi/model\", verbose=False, KLD=-1)"
   ]
  },
  {
   "cell_type": "code",
   "execution_count": 405,
   "metadata": {
    "collapsed": true
   },
   "outputs": [],
   "source": [
    "# Saving training results\n",
    "np.save(\"data_VAE/losses1\", losses1)\n",
    "np.save(\"data_VAE/losses2\", losses2)\n",
    "np.save(\"data_VAE/losses3\", losses3)\n",
    "np.save(\"data_VAE/losses4\", losses4)\n",
    "\n",
    "np.save(\"data_VAE/latents1\", latents1)\n",
    "np.save(\"data_VAE/latents2\", latents2)\n",
    "np.save(\"data_VAE/latents3\", latents3)\n",
    "np.save(\"data_VAE/latents4\", latents4)\n",
    "\n",
    "np.save(\"data_VAE/ys1\", ys1)\n",
    "np.save(\"data_VAE/ys2\", ys2)\n",
    "np.save(\"data_VAE/ys3\", ys3)\n",
    "np.save(\"data_VAE/ys4\", ys4)\n",
    "\n",
    "np.save(\"data_VAE/mus1\", mus1)\n",
    "np.save(\"data_VAE/mus2\", mus2)\n",
    "np.save(\"data_VAE/mus3\", mus3)\n",
    "np.save(\"data_VAE/mus4\", mus4)\n",
    "\n",
    "np.save(\"data_VAE/sigmas1\", sigmas1)\n",
    "np.save(\"data_VAE/sigmas2\", sigmas2)\n",
    "np.save(\"data_VAE/sigmas3\", sigmas3)\n",
    "np.save(\"data_VAE/sigmas4\", sigmas4)"
   ]
  },
  {
   "cell_type": "code",
   "execution_count": 13,
   "metadata": {
    "collapsed": true
   },
   "outputs": [],
   "source": [
    "#Loading results\n",
    "losses1 = np.load(\"data_VAE/losses1.npy\")\n",
    "losses2 = np.load(\"data_VAE/losses2.npy\")\n",
    "losses3 = np.load(\"data_VAE/losses3.npy\")\n",
    "\n",
    "latents1 = np.load(\"data_VAE/latents1.npy\")\n",
    "latents2 = np.load(\"data_VAE/latents2.npy\")\n",
    "latents3 = np.load(\"data_VAE/latents3.npy\")\n",
    "\n",
    "ys1 = np.load(\"data_VAE/ys1.npy\")\n",
    "ys2 = np.load(\"data_VAE/ys2.npy\")\n",
    "ys3 = np.load(\"data_VAE/ys3.npy\")\n",
    "\n",
    "mus1 = np.load(\"data_VAE/mus1.npy\")\n",
    "mus2 = np.load(\"data_VAE/mus2.npy\")\n",
    "mus3 = np.load(\"data_VAE/mus3.npy\")\n",
    "\n",
    "sigmas1 = np.load(\"data_VAE/sigmas1.npy\")\n",
    "sigmas2 = np.load(\"data_VAE/sigmas2.npy\")\n",
    "sigmas3 = np.load(\"data_VAE/sigmas3.npy\")"
   ]
  },
  {
   "cell_type": "markdown",
   "metadata": {},
   "source": [
    "# Learning path "
   ]
  },
  {
   "cell_type": "code",
   "execution_count": 407,
   "metadata": {
    "collapsed": true
   },
   "outputs": [],
   "source": [
    "def plot_learning_path(losses):\n",
    "    l1 = np.mean(np.array(losses), axis=1)\n",
    "    plt.figure(figsize=(10,3))\n",
    "    plt.subplot(1,2,1)\n",
    "    plt.plot(l1[:,0])\n",
    "    plt.xlim(0,50)\n",
    "    plt.title(\"LOSS (RECONST+DIVERGENCE)\")\n",
    "    plt.xlabel(\"epochs\")\n",
    "    plt.subplot(1,2,2)\n",
    "    plt.plot(l1[:,1], label=\"x\")\n",
    "    plt.plot(l1[:,2], label=\"y\")\n",
    "    plt.xlim(0,50)\n",
    "    plt.title(\"divergence\")\n",
    "    plt.legend()\n",
    "    plt.xlabel(\"epochs\")\n",
    "    plt.show()"
   ]
  },
  {
   "cell_type": "code",
   "execution_count": 408,
   "metadata": {
    "scrolled": false
   },
   "outputs": [
    {
     "data": {
      "image/png": "[encoded data removed]",
      "text/plain": [
       "<matplotlib.figure.Figure at 0x7f2980012450>"
      ]
     },
     "metadata": {},
     "output_type": "display_data"
    }
   ],
   "source": [
    "#1:1 KL from beginning\n",
    "plot_learning_path(losses1)"
   ]
  },
  {
   "cell_type": "code",
   "execution_count": 409,
   "metadata": {},
   "outputs": [
    {
     "data": {
      "image/png": "[encoded data removed]",
      "text/plain": [
       "<matplotlib.figure.Figure at 0x7f297ea1a910>"
      ]
     },
     "metadata": {},
     "output_type": "display_data"
    }
   ],
   "source": [
    "# Slow introduction of KL\n",
    "plot_learning_path(losses2)"
   ]
  },
  {
   "cell_type": "code",
   "execution_count": 410,
   "metadata": {},
   "outputs": [
    {
     "data": {
      "image/png": "[encoded data removed]",
      "text/plain": [
       "<matplotlib.figure.Figure at 0x7f297e8b3950>"
      ]
     },
     "metadata": {},
     "output_type": "display_data"
    }
   ],
   "source": [
    "#No Divergence\n",
    "plot_learning_path(losses3)"
   ]
  },
  {
   "cell_type": "code",
   "execution_count": 411,
   "metadata": {},
   "outputs": [
    {
     "data": {
      "image/png": "[encoded data removed]",
      "text/plain": [
       "<matplotlib.figure.Figure at 0x7f2960789f90>"
      ]
     },
     "metadata": {},
     "output_type": "display_data"
    }
   ],
   "source": [
    "#Renyi\n",
    "plot_learning_path(losses4)"
   ]
  },
  {
   "cell_type": "markdown",
   "metadata": {},
   "source": [
    "# Digits in latent space"
   ]
  },
  {
   "cell_type": "code",
   "execution_count": 11,
   "metadata": {
    "collapsed": true
   },
   "outputs": [],
   "source": [
    "def plot_samples(mus, ys, epochs=50):\n",
    "    cs = sns.color_palette(\"hls\", 10)\n",
    "    \n",
    "    plt.figure(figsize=(6,6))\n",
    "    for epoch in range(epochs):\n",
    "        plt.clf()\n",
    "        plotdict = {}\n",
    "        for b in range(mus[epoch].shape[0]):\n",
    "            poses = mus[epoch][b]\n",
    "            targets = np.argmax(ys[epoch][b], axis=1) \n",
    "            for i in range(len(targets)):\n",
    "                temp = plotdict.get(targets[i], [])\n",
    "                temp.append(poses[i])\n",
    "                plotdict[targets[i]] = temp\n",
    "\n",
    "        for i in range(10):\n",
    "            if i in plotdict:\n",
    "                d = np.array(plotdict[i])\n",
    "                plt.scatter(d[:, 0], d[:, 1], color=cs[i], label=str(i), s=0.5)\n",
    "        plt.xlim(-4,4)\n",
    "        plt.ylim(-4,4)\n",
    "        plt.title(\"Epoch\"+str(epoch+1))\n",
    "        display.clear_output(wait=True)\n",
    "        display.display(plt.gcf())\n",
    "    display.clear_output(wait=True)"
   ]
  },
  {
   "cell_type": "code",
   "execution_count": 17,
   "metadata": {
    "collapsed": true
   },
   "outputs": [],
   "source": [
    "def plot_samples(mus, ys, epochs=50):\n",
    "    cs = sns.color_palette(\"hls\", 10)\n",
    "    \n",
    "    for epoch in range(epochs):\n",
    "        plt.figure(figsize=(6,6))\n",
    "        plotdict = {}\n",
    "        for b in range(mus[epoch].shape[0]):\n",
    "            poses = mus[epoch][b]\n",
    "            targets = np.argmax(ys[epoch][b], axis=1) \n",
    "            for i in range(len(targets)):\n",
    "                temp = plotdict.get(targets[i], [])\n",
    "                temp.append(poses[i])\n",
    "                plotdict[targets[i]] = temp\n",
    "\n",
    "        for i in range(10):\n",
    "            if i in plotdict:\n",
    "                d = np.array(plotdict[i])\n",
    "                plt.scatter(d[:, 0], d[:, 1], color=cs[i], label=str(i), s=0.5)\n",
    "        plt.xlim(-4,4)\n",
    "        plt.ylim(-4,4)\n",
    "        plt.title(\"Epoch\"+str(epoch+1))\n",
    "        plt.savefig(\"epoch\"+str(epoch+1)+\".png\")"
   ]
  },
  {
   "cell_type": "code",
   "execution_count": 20,
   "metadata": {
    "collapsed": true,
    "scrolled": false
   },
   "outputs": [],
   "source": [
    "# 1:1 KLD from the begining\n",
    "x = plot_samples(mus1, ys1, 50)"
   ]
  },
  {
   "cell_type": "code",
   "execution_count": 19,
   "metadata": {},
   "outputs": [
    {
     "name": "stderr",
     "output_type": "stream",
     "text": [
      "/home/nhiranuma/anaconda2/lib/python2.7/site-packages/matplotlib/pyplot.py:524: RuntimeWarning: More than 20 figures have been opened. Figures created through the pyplot interface (`matplotlib.pyplot.figure`) are retained until explicitly closed and may consume too much memory. (To control this warning, see the rcParam `figure.max_open_warning`).\n",
      "  max_open_warning, RuntimeWarning)\n"
     ]
    }
   ],
   "source": [
    "# slow introduction of KLD\n",
    "x = plot_samples(mus2, ys2, 50)"
   ]
  },
  {
   "cell_type": "code",
   "execution_count": 18,
   "metadata": {},
   "outputs": [
    {
     "ename": "KeyboardInterrupt",
     "evalue": "",
     "output_type": "error",
     "traceback": [
      "\u001b[0;31m---------------------------------------------------------------------------\u001b[0m",
      "\u001b[0;31mKeyboardInterrupt\u001b[0m                         Traceback (most recent call last)",
      "\u001b[0;32m<ipython-input-18-b7e7428ce574>\u001b[0m in \u001b[0;36m<module>\u001b[0;34m()\u001b[0m\n\u001b[1;32m      1\u001b[0m \u001b[0;31m# N0 divergence measure\u001b[0m\u001b[0;34m\u001b[0m\u001b[0;34m\u001b[0m\u001b[0m\n\u001b[0;32m----> 2\u001b[0;31m \u001b[0mx\u001b[0m \u001b[0;34m=\u001b[0m \u001b[0mplot_samples\u001b[0m\u001b[0;34m(\u001b[0m\u001b[0mmus3\u001b[0m\u001b[0;34m,\u001b[0m \u001b[0mys3\u001b[0m\u001b[0;34m,\u001b[0m \u001b[0;36m50\u001b[0m\u001b[0;34m)\u001b[0m\u001b[0;34m\u001b[0m\u001b[0m\n\u001b[0m",
      "\u001b[0;32m<ipython-input-17-e5a53c9ad319>\u001b[0m in \u001b[0;36mplot_samples\u001b[0;34m(mus, ys, epochs)\u001b[0m\n\u001b[1;32m     20\u001b[0m         \u001b[0mplt\u001b[0m\u001b[0;34m.\u001b[0m\u001b[0mylim\u001b[0m\u001b[0;34m(\u001b[0m\u001b[0;34m-\u001b[0m\u001b[0;36m4\u001b[0m\u001b[0;34m,\u001b[0m\u001b[0;36m4\u001b[0m\u001b[0;34m)\u001b[0m\u001b[0;34m\u001b[0m\u001b[0m\n\u001b[1;32m     21\u001b[0m         \u001b[0mplt\u001b[0m\u001b[0;34m.\u001b[0m\u001b[0mtitle\u001b[0m\u001b[0;34m(\u001b[0m\u001b[0;34m\"Epoch\"\u001b[0m\u001b[0;34m+\u001b[0m\u001b[0mstr\u001b[0m\u001b[0;34m(\u001b[0m\u001b[0mepoch\u001b[0m\u001b[0;34m+\u001b[0m\u001b[0;36m1\u001b[0m\u001b[0;34m)\u001b[0m\u001b[0;34m)\u001b[0m\u001b[0;34m\u001b[0m\u001b[0m\n\u001b[0;32m---> 22\u001b[0;31m         \u001b[0mplt\u001b[0m\u001b[0;34m.\u001b[0m\u001b[0msavefig\u001b[0m\u001b[0;34m(\u001b[0m\u001b[0;34m\"epoch\"\u001b[0m\u001b[0;34m+\u001b[0m\u001b[0mstr\u001b[0m\u001b[0;34m(\u001b[0m\u001b[0mepoch\u001b[0m\u001b[0;34m+\u001b[0m\u001b[0;36m1\u001b[0m\u001b[0;34m)\u001b[0m\u001b[0;34m+\u001b[0m\u001b[0;34m\".png\"\u001b[0m\u001b[0;34m)\u001b[0m\u001b[0;34m\u001b[0m\u001b[0m\n\u001b[0m",
      "\u001b[0;32m/home/nhiranuma/anaconda2/lib/python2.7/site-packages/matplotlib/pyplot.pyc\u001b[0m in \u001b[0;36msavefig\u001b[0;34m(*args, **kwargs)\u001b[0m\n\u001b[1;32m    696\u001b[0m     \u001b[0mfig\u001b[0m \u001b[0;34m=\u001b[0m \u001b[0mgcf\u001b[0m\u001b[0;34m(\u001b[0m\u001b[0;34m)\u001b[0m\u001b[0;34m\u001b[0m\u001b[0m\n\u001b[1;32m    697\u001b[0m     \u001b[0mres\u001b[0m \u001b[0;34m=\u001b[0m \u001b[0mfig\u001b[0m\u001b[0;34m.\u001b[0m\u001b[0msavefig\u001b[0m\u001b[0;34m(\u001b[0m\u001b[0;34m*\u001b[0m\u001b[0margs\u001b[0m\u001b[0;34m,\u001b[0m \u001b[0;34m**\u001b[0m\u001b[0mkwargs\u001b[0m\u001b[0;34m)\u001b[0m\u001b[0;34m\u001b[0m\u001b[0m\n\u001b[0;32m--> 698\u001b[0;31m     \u001b[0mfig\u001b[0m\u001b[0;34m.\u001b[0m\u001b[0mcanvas\u001b[0m\u001b[0;34m.\u001b[0m\u001b[0mdraw_idle\u001b[0m\u001b[0;34m(\u001b[0m\u001b[0;34m)\u001b[0m   \u001b[0;31m# need this if 'transparent=True' to reset colors\u001b[0m\u001b[0;34m\u001b[0m\u001b[0m\n\u001b[0m\u001b[1;32m    699\u001b[0m     \u001b[0;32mreturn\u001b[0m \u001b[0mres\u001b[0m\u001b[0;34m\u001b[0m\u001b[0m\n\u001b[1;32m    700\u001b[0m \u001b[0;34m\u001b[0m\u001b[0m\n",
      "\u001b[0;32m/home/nhiranuma/anaconda2/lib/python2.7/site-packages/matplotlib/backend_bases.pyc\u001b[0m in \u001b[0;36mdraw_idle\u001b[0;34m(self, *args, **kwargs)\u001b[0m\n\u001b[1;32m   2038\u001b[0m         \u001b[0;32mif\u001b[0m \u001b[0;32mnot\u001b[0m \u001b[0mself\u001b[0m\u001b[0;34m.\u001b[0m\u001b[0m_is_idle_drawing\u001b[0m\u001b[0;34m:\u001b[0m\u001b[0;34m\u001b[0m\u001b[0m\n\u001b[1;32m   2039\u001b[0m             \u001b[0;32mwith\u001b[0m \u001b[0mself\u001b[0m\u001b[0;34m.\u001b[0m\u001b[0m_idle_draw_cntx\u001b[0m\u001b[0;34m(\u001b[0m\u001b[0;34m)\u001b[0m\u001b[0;34m:\u001b[0m\u001b[0;34m\u001b[0m\u001b[0m\n\u001b[0;32m-> 2040\u001b[0;31m                 \u001b[0mself\u001b[0m\u001b[0;34m.\u001b[0m\u001b[0mdraw\u001b[0m\u001b[0;34m(\u001b[0m\u001b[0;34m*\u001b[0m\u001b[0margs\u001b[0m\u001b[0;34m,\u001b[0m \u001b[0;34m**\u001b[0m\u001b[0mkwargs\u001b[0m\u001b[0;34m)\u001b[0m\u001b[0;34m\u001b[0m\u001b[0m\n\u001b[0m\u001b[1;32m   2041\u001b[0m \u001b[0;34m\u001b[0m\u001b[0m\n\u001b[1;32m   2042\u001b[0m     \u001b[0;32mdef\u001b[0m \u001b[0mdraw_cursor\u001b[0m\u001b[0;34m(\u001b[0m\u001b[0mself\u001b[0m\u001b[0;34m,\u001b[0m \u001b[0mevent\u001b[0m\u001b[0;34m)\u001b[0m\u001b[0;34m:\u001b[0m\u001b[0;34m\u001b[0m\u001b[0m\n",
      "\u001b[0;32m/home/nhiranuma/anaconda2/lib/python2.7/site-packages/matplotlib/backends/backend_agg.pyc\u001b[0m in \u001b[0;36mdraw\u001b[0;34m(self)\u001b[0m\n\u001b[1;32m    462\u001b[0m \u001b[0;34m\u001b[0m\u001b[0m\n\u001b[1;32m    463\u001b[0m         \u001b[0;32mtry\u001b[0m\u001b[0;34m:\u001b[0m\u001b[0;34m\u001b[0m\u001b[0m\n\u001b[0;32m--> 464\u001b[0;31m             \u001b[0mself\u001b[0m\u001b[0;34m.\u001b[0m\u001b[0mfigure\u001b[0m\u001b[0;34m.\u001b[0m\u001b[0mdraw\u001b[0m\u001b[0;34m(\u001b[0m\u001b[0mself\u001b[0m\u001b[0;34m.\u001b[0m\u001b[0mrenderer\u001b[0m\u001b[0;34m)\u001b[0m\u001b[0;34m\u001b[0m\u001b[0m\n\u001b[0m\u001b[1;32m    465\u001b[0m         \u001b[0;32mfinally\u001b[0m\u001b[0;34m:\u001b[0m\u001b[0;34m\u001b[0m\u001b[0m\n\u001b[1;32m    466\u001b[0m             \u001b[0mRendererAgg\u001b[0m\u001b[0;34m.\u001b[0m\u001b[0mlock\u001b[0m\u001b[0;34m.\u001b[0m\u001b[0mrelease\u001b[0m\u001b[0;34m(\u001b[0m\u001b[0;34m)\u001b[0m\u001b[0;34m\u001b[0m\u001b[0m\n",
      "\u001b[0;32m/home/nhiranuma/anaconda2/lib/python2.7/site-packages/matplotlib/artist.pyc\u001b[0m in \u001b[0;36mdraw_wrapper\u001b[0;34m(artist, renderer, *args, **kwargs)\u001b[0m\n\u001b[1;32m     61\u001b[0m     \u001b[0;32mdef\u001b[0m \u001b[0mdraw_wrapper\u001b[0m\u001b[0;34m(\u001b[0m\u001b[0martist\u001b[0m\u001b[0;34m,\u001b[0m \u001b[0mrenderer\u001b[0m\u001b[0;34m,\u001b[0m \u001b[0;34m*\u001b[0m\u001b[0margs\u001b[0m\u001b[0;34m,\u001b[0m \u001b[0;34m**\u001b[0m\u001b[0mkwargs\u001b[0m\u001b[0;34m)\u001b[0m\u001b[0;34m:\u001b[0m\u001b[0;34m\u001b[0m\u001b[0m\n\u001b[1;32m     62\u001b[0m         \u001b[0mbefore\u001b[0m\u001b[0;34m(\u001b[0m\u001b[0martist\u001b[0m\u001b[0;34m,\u001b[0m \u001b[0mrenderer\u001b[0m\u001b[0;34m)\u001b[0m\u001b[0;34m\u001b[0m\u001b[0m\n\u001b[0;32m---> 63\u001b[0;31m         \u001b[0mdraw\u001b[0m\u001b[0;34m(\u001b[0m\u001b[0martist\u001b[0m\u001b[0;34m,\u001b[0m \u001b[0mrenderer\u001b[0m\u001b[0;34m,\u001b[0m \u001b[0;34m*\u001b[0m\u001b[0margs\u001b[0m\u001b[0;34m,\u001b[0m \u001b[0;34m**\u001b[0m\u001b[0mkwargs\u001b[0m\u001b[0;34m)\u001b[0m\u001b[0;34m\u001b[0m\u001b[0m\n\u001b[0m\u001b[1;32m     64\u001b[0m         \u001b[0mafter\u001b[0m\u001b[0;34m(\u001b[0m\u001b[0martist\u001b[0m\u001b[0;34m,\u001b[0m \u001b[0mrenderer\u001b[0m\u001b[0;34m)\u001b[0m\u001b[0;34m\u001b[0m\u001b[0m\n\u001b[1;32m     65\u001b[0m \u001b[0;34m\u001b[0m\u001b[0m\n",
      "\u001b[0;32m/home/nhiranuma/anaconda2/lib/python2.7/site-packages/matplotlib/figure.pyc\u001b[0m in \u001b[0;36mdraw\u001b[0;34m(self, renderer)\u001b[0m\n\u001b[1;32m   1142\u001b[0m \u001b[0;34m\u001b[0m\u001b[0m\n\u001b[1;32m   1143\u001b[0m             mimage._draw_list_compositing_images(\n\u001b[0;32m-> 1144\u001b[0;31m                 renderer, self, dsu, self.suppressComposite)\n\u001b[0m\u001b[1;32m   1145\u001b[0m \u001b[0;34m\u001b[0m\u001b[0m\n\u001b[1;32m   1146\u001b[0m             \u001b[0mrenderer\u001b[0m\u001b[0;34m.\u001b[0m\u001b[0mclose_group\u001b[0m\u001b[0;34m(\u001b[0m\u001b[0;34m'figure'\u001b[0m\u001b[0;34m)\u001b[0m\u001b[0;34m\u001b[0m\u001b[0m\n",
      "\u001b[0;32m/home/nhiranuma/anaconda2/lib/python2.7/site-packages/matplotlib/image.pyc\u001b[0m in \u001b[0;36m_draw_list_compositing_images\u001b[0;34m(renderer, parent, dsu, suppress_composite)\u001b[0m\n\u001b[1;32m    137\u001b[0m     \u001b[0;32mif\u001b[0m \u001b[0mnot_composite\u001b[0m \u001b[0;32mor\u001b[0m \u001b[0;32mnot\u001b[0m \u001b[0mhas_images\u001b[0m\u001b[0;34m:\u001b[0m\u001b[0;34m\u001b[0m\u001b[0m\n\u001b[1;32m    138\u001b[0m         \u001b[0;32mfor\u001b[0m \u001b[0mzorder\u001b[0m\u001b[0;34m,\u001b[0m \u001b[0ma\u001b[0m \u001b[0;32min\u001b[0m \u001b[0mdsu\u001b[0m\u001b[0;34m:\u001b[0m\u001b[0;34m\u001b[0m\u001b[0m\n\u001b[0;32m--> 139\u001b[0;31m             \u001b[0ma\u001b[0m\u001b[0;34m.\u001b[0m\u001b[0mdraw\u001b[0m\u001b[0;34m(\u001b[0m\u001b[0mrenderer\u001b[0m\u001b[0;34m)\u001b[0m\u001b[0;34m\u001b[0m\u001b[0m\n\u001b[0m\u001b[1;32m    140\u001b[0m     \u001b[0;32melse\u001b[0m\u001b[0;34m:\u001b[0m\u001b[0;34m\u001b[0m\u001b[0m\n\u001b[1;32m    141\u001b[0m         \u001b[0;31m# Composite any adjacent images together\u001b[0m\u001b[0;34m\u001b[0m\u001b[0;34m\u001b[0m\u001b[0m\n",
      "\u001b[0;32m/home/nhiranuma/anaconda2/lib/python2.7/site-packages/matplotlib/artist.pyc\u001b[0m in \u001b[0;36mdraw_wrapper\u001b[0;34m(artist, renderer, *args, **kwargs)\u001b[0m\n\u001b[1;32m     61\u001b[0m     \u001b[0;32mdef\u001b[0m \u001b[0mdraw_wrapper\u001b[0m\u001b[0;34m(\u001b[0m\u001b[0martist\u001b[0m\u001b[0;34m,\u001b[0m \u001b[0mrenderer\u001b[0m\u001b[0;34m,\u001b[0m \u001b[0;34m*\u001b[0m\u001b[0margs\u001b[0m\u001b[0;34m,\u001b[0m \u001b[0;34m**\u001b[0m\u001b[0mkwargs\u001b[0m\u001b[0;34m)\u001b[0m\u001b[0;34m:\u001b[0m\u001b[0;34m\u001b[0m\u001b[0m\n\u001b[1;32m     62\u001b[0m         \u001b[0mbefore\u001b[0m\u001b[0;34m(\u001b[0m\u001b[0martist\u001b[0m\u001b[0;34m,\u001b[0m \u001b[0mrenderer\u001b[0m\u001b[0;34m)\u001b[0m\u001b[0;34m\u001b[0m\u001b[0m\n\u001b[0;32m---> 63\u001b[0;31m         \u001b[0mdraw\u001b[0m\u001b[0;34m(\u001b[0m\u001b[0martist\u001b[0m\u001b[0;34m,\u001b[0m \u001b[0mrenderer\u001b[0m\u001b[0;34m,\u001b[0m \u001b[0;34m*\u001b[0m\u001b[0margs\u001b[0m\u001b[0;34m,\u001b[0m \u001b[0;34m**\u001b[0m\u001b[0mkwargs\u001b[0m\u001b[0;34m)\u001b[0m\u001b[0;34m\u001b[0m\u001b[0m\n\u001b[0m\u001b[1;32m     64\u001b[0m         \u001b[0mafter\u001b[0m\u001b[0;34m(\u001b[0m\u001b[0martist\u001b[0m\u001b[0;34m,\u001b[0m \u001b[0mrenderer\u001b[0m\u001b[0;34m)\u001b[0m\u001b[0;34m\u001b[0m\u001b[0m\n\u001b[1;32m     65\u001b[0m \u001b[0;34m\u001b[0m\u001b[0m\n",
      "\u001b[0;32m/home/nhiranuma/anaconda2/lib/python2.7/site-packages/matplotlib/axes/_base.pyc\u001b[0m in \u001b[0;36mdraw\u001b[0;34m(self, renderer, inframe)\u001b[0m\n\u001b[1;32m   2417\u001b[0m         \u001b[0;31m# will draw the edges\u001b[0m\u001b[0;34m\u001b[0m\u001b[0;34m\u001b[0m\u001b[0m\n\u001b[1;32m   2418\u001b[0m         \u001b[0;32mif\u001b[0m \u001b[0mself\u001b[0m\u001b[0;34m.\u001b[0m\u001b[0maxison\u001b[0m \u001b[0;32mand\u001b[0m \u001b[0mself\u001b[0m\u001b[0;34m.\u001b[0m\u001b[0m_frameon\u001b[0m\u001b[0;34m:\u001b[0m\u001b[0;34m\u001b[0m\u001b[0m\n\u001b[0;32m-> 2419\u001b[0;31m             \u001b[0mself\u001b[0m\u001b[0;34m.\u001b[0m\u001b[0mpatch\u001b[0m\u001b[0;34m.\u001b[0m\u001b[0mdraw\u001b[0m\u001b[0;34m(\u001b[0m\u001b[0mrenderer\u001b[0m\u001b[0;34m)\u001b[0m\u001b[0;34m\u001b[0m\u001b[0m\n\u001b[0m\u001b[1;32m   2420\u001b[0m \u001b[0;34m\u001b[0m\u001b[0m\n\u001b[1;32m   2421\u001b[0m         \u001b[0;32mif\u001b[0m \u001b[0mdsu_rasterized\u001b[0m\u001b[0;34m:\u001b[0m\u001b[0;34m\u001b[0m\u001b[0m\n",
      "\u001b[0;32m/home/nhiranuma/anaconda2/lib/python2.7/site-packages/matplotlib/artist.pyc\u001b[0m in \u001b[0;36mdraw_wrapper\u001b[0;34m(artist, renderer, *args, **kwargs)\u001b[0m\n\u001b[1;32m     61\u001b[0m     \u001b[0;32mdef\u001b[0m \u001b[0mdraw_wrapper\u001b[0m\u001b[0;34m(\u001b[0m\u001b[0martist\u001b[0m\u001b[0;34m,\u001b[0m \u001b[0mrenderer\u001b[0m\u001b[0;34m,\u001b[0m \u001b[0;34m*\u001b[0m\u001b[0margs\u001b[0m\u001b[0;34m,\u001b[0m \u001b[0;34m**\u001b[0m\u001b[0mkwargs\u001b[0m\u001b[0;34m)\u001b[0m\u001b[0;34m:\u001b[0m\u001b[0;34m\u001b[0m\u001b[0m\n\u001b[1;32m     62\u001b[0m         \u001b[0mbefore\u001b[0m\u001b[0;34m(\u001b[0m\u001b[0martist\u001b[0m\u001b[0;34m,\u001b[0m \u001b[0mrenderer\u001b[0m\u001b[0;34m)\u001b[0m\u001b[0;34m\u001b[0m\u001b[0m\n\u001b[0;32m---> 63\u001b[0;31m         \u001b[0mdraw\u001b[0m\u001b[0;34m(\u001b[0m\u001b[0martist\u001b[0m\u001b[0;34m,\u001b[0m \u001b[0mrenderer\u001b[0m\u001b[0;34m,\u001b[0m \u001b[0;34m*\u001b[0m\u001b[0margs\u001b[0m\u001b[0;34m,\u001b[0m \u001b[0;34m**\u001b[0m\u001b[0mkwargs\u001b[0m\u001b[0;34m)\u001b[0m\u001b[0;34m\u001b[0m\u001b[0m\n\u001b[0m\u001b[1;32m     64\u001b[0m         \u001b[0mafter\u001b[0m\u001b[0;34m(\u001b[0m\u001b[0martist\u001b[0m\u001b[0;34m,\u001b[0m \u001b[0mrenderer\u001b[0m\u001b[0;34m)\u001b[0m\u001b[0;34m\u001b[0m\u001b[0m\n\u001b[1;32m     65\u001b[0m \u001b[0;34m\u001b[0m\u001b[0m\n",
      "\u001b[0;32m/home/nhiranuma/anaconda2/lib/python2.7/site-packages/matplotlib/patches.pyc\u001b[0m in \u001b[0;36mdraw\u001b[0;34m(self, renderer)\u001b[0m\n\u001b[1;32m    564\u001b[0m \u001b[0;34m\u001b[0m\u001b[0m\n\u001b[1;32m    565\u001b[0m         \u001b[0mpath\u001b[0m \u001b[0;34m=\u001b[0m \u001b[0mself\u001b[0m\u001b[0;34m.\u001b[0m\u001b[0mget_path\u001b[0m\u001b[0;34m(\u001b[0m\u001b[0;34m)\u001b[0m\u001b[0;34m\u001b[0m\u001b[0m\n\u001b[0;32m--> 566\u001b[0;31m         \u001b[0mtransform\u001b[0m \u001b[0;34m=\u001b[0m \u001b[0mself\u001b[0m\u001b[0;34m.\u001b[0m\u001b[0mget_transform\u001b[0m\u001b[0;34m(\u001b[0m\u001b[0;34m)\u001b[0m\u001b[0;34m\u001b[0m\u001b[0m\n\u001b[0m\u001b[1;32m    567\u001b[0m         \u001b[0mtpath\u001b[0m \u001b[0;34m=\u001b[0m \u001b[0mtransform\u001b[0m\u001b[0;34m.\u001b[0m\u001b[0mtransform_path_non_affine\u001b[0m\u001b[0;34m(\u001b[0m\u001b[0mpath\u001b[0m\u001b[0;34m)\u001b[0m\u001b[0;34m\u001b[0m\u001b[0m\n\u001b[1;32m    568\u001b[0m         \u001b[0maffine\u001b[0m \u001b[0;34m=\u001b[0m \u001b[0mtransform\u001b[0m\u001b[0;34m.\u001b[0m\u001b[0mget_affine\u001b[0m\u001b[0;34m(\u001b[0m\u001b[0;34m)\u001b[0m\u001b[0;34m\u001b[0m\u001b[0m\n",
      "\u001b[0;32m/home/nhiranuma/anaconda2/lib/python2.7/site-packages/matplotlib/patches.pyc\u001b[0m in \u001b[0;36mget_transform\u001b[0;34m(self)\u001b[0m\n\u001b[1;32m    219\u001b[0m         \u001b[0mto\u001b[0m \u001b[0mthe\u001b[0m \u001b[0;34m:\u001b[0m\u001b[0;32mclass\u001b[0m\u001b[0;34m:\u001b[0m\u001b[0;34m`\u001b[0m\u001b[0mPatch\u001b[0m\u001b[0;34m`\u001b[0m\u001b[0;34m.\u001b[0m\u001b[0;34m\u001b[0m\u001b[0m\n\u001b[1;32m    220\u001b[0m         \"\"\"\n\u001b[0;32m--> 221\u001b[0;31m         \u001b[0;32mreturn\u001b[0m \u001b[0mself\u001b[0m\u001b[0;34m.\u001b[0m\u001b[0mget_patch_transform\u001b[0m\u001b[0;34m(\u001b[0m\u001b[0;34m)\u001b[0m \u001b[0;34m+\u001b[0m \u001b[0martist\u001b[0m\u001b[0;34m.\u001b[0m\u001b[0mArtist\u001b[0m\u001b[0;34m.\u001b[0m\u001b[0mget_transform\u001b[0m\u001b[0;34m(\u001b[0m\u001b[0mself\u001b[0m\u001b[0;34m)\u001b[0m\u001b[0;34m\u001b[0m\u001b[0m\n\u001b[0m\u001b[1;32m    222\u001b[0m \u001b[0;34m\u001b[0m\u001b[0m\n\u001b[1;32m    223\u001b[0m     \u001b[0;32mdef\u001b[0m \u001b[0mget_data_transform\u001b[0m\u001b[0;34m(\u001b[0m\u001b[0mself\u001b[0m\u001b[0;34m)\u001b[0m\u001b[0;34m:\u001b[0m\u001b[0;34m\u001b[0m\u001b[0m\n",
      "\u001b[0;32m/home/nhiranuma/anaconda2/lib/python2.7/site-packages/matplotlib/patches.pyc\u001b[0m in \u001b[0;36mget_patch_transform\u001b[0;34m(self)\u001b[0m\n\u001b[1;32m    719\u001b[0m \u001b[0;34m\u001b[0m\u001b[0m\n\u001b[1;32m    720\u001b[0m     \u001b[0;32mdef\u001b[0m \u001b[0mget_patch_transform\u001b[0m\u001b[0;34m(\u001b[0m\u001b[0mself\u001b[0m\u001b[0;34m)\u001b[0m\u001b[0;34m:\u001b[0m\u001b[0;34m\u001b[0m\u001b[0m\n\u001b[0;32m--> 721\u001b[0;31m         \u001b[0mself\u001b[0m\u001b[0;34m.\u001b[0m\u001b[0m_update_patch_transform\u001b[0m\u001b[0;34m(\u001b[0m\u001b[0;34m)\u001b[0m\u001b[0;34m\u001b[0m\u001b[0m\n\u001b[0m\u001b[1;32m    722\u001b[0m         \u001b[0;32mreturn\u001b[0m \u001b[0mself\u001b[0m\u001b[0;34m.\u001b[0m\u001b[0m_rect_transform\u001b[0m\u001b[0;34m\u001b[0m\u001b[0m\n\u001b[1;32m    723\u001b[0m \u001b[0;34m\u001b[0m\u001b[0m\n",
      "\u001b[0;32m/home/nhiranuma/anaconda2/lib/python2.7/site-packages/matplotlib/patches.pyc\u001b[0m in \u001b[0;36m_update_patch_transform\u001b[0;34m(self)\u001b[0m\n\u001b[1;32m    716\u001b[0m         \u001b[0mrot_trans\u001b[0m\u001b[0;34m.\u001b[0m\u001b[0mrotate_deg_around\u001b[0m\u001b[0;34m(\u001b[0m\u001b[0mx\u001b[0m\u001b[0;34m,\u001b[0m \u001b[0my\u001b[0m\u001b[0;34m,\u001b[0m \u001b[0mself\u001b[0m\u001b[0;34m.\u001b[0m\u001b[0m_angle\u001b[0m\u001b[0;34m)\u001b[0m\u001b[0;34m\u001b[0m\u001b[0m\n\u001b[1;32m    717\u001b[0m         \u001b[0mself\u001b[0m\u001b[0;34m.\u001b[0m\u001b[0m_rect_transform\u001b[0m \u001b[0;34m=\u001b[0m \u001b[0mtransforms\u001b[0m\u001b[0;34m.\u001b[0m\u001b[0mBboxTransformTo\u001b[0m\u001b[0;34m(\u001b[0m\u001b[0mbbox\u001b[0m\u001b[0;34m)\u001b[0m\u001b[0;34m\u001b[0m\u001b[0m\n\u001b[0;32m--> 718\u001b[0;31m         \u001b[0mself\u001b[0m\u001b[0;34m.\u001b[0m\u001b[0m_rect_transform\u001b[0m \u001b[0;34m+=\u001b[0m \u001b[0mrot_trans\u001b[0m\u001b[0;34m\u001b[0m\u001b[0m\n\u001b[0m\u001b[1;32m    719\u001b[0m \u001b[0;34m\u001b[0m\u001b[0m\n\u001b[1;32m    720\u001b[0m     \u001b[0;32mdef\u001b[0m \u001b[0mget_patch_transform\u001b[0m\u001b[0;34m(\u001b[0m\u001b[0mself\u001b[0m\u001b[0;34m)\u001b[0m\u001b[0;34m:\u001b[0m\u001b[0;34m\u001b[0m\u001b[0m\n",
      "\u001b[0;32m/home/nhiranuma/anaconda2/lib/python2.7/site-packages/matplotlib/transforms.pyc\u001b[0m in \u001b[0;36m__add__\u001b[0;34m(self, other)\u001b[0m\n\u001b[1;32m   1177\u001b[0m         \"\"\"\n\u001b[1;32m   1178\u001b[0m         \u001b[0;32mif\u001b[0m \u001b[0misinstance\u001b[0m\u001b[0;34m(\u001b[0m\u001b[0mother\u001b[0m\u001b[0;34m,\u001b[0m \u001b[0mTransform\u001b[0m\u001b[0;34m)\u001b[0m\u001b[0;34m:\u001b[0m\u001b[0;34m\u001b[0m\u001b[0m\n\u001b[0;32m-> 1179\u001b[0;31m             \u001b[0;32mreturn\u001b[0m \u001b[0mcomposite_transform_factory\u001b[0m\u001b[0;34m(\u001b[0m\u001b[0mself\u001b[0m\u001b[0;34m,\u001b[0m \u001b[0mother\u001b[0m\u001b[0;34m)\u001b[0m\u001b[0;34m\u001b[0m\u001b[0m\n\u001b[0m\u001b[1;32m   1180\u001b[0m         raise TypeError(\n\u001b[1;32m   1181\u001b[0m             \"Can not add Transform to object of type '%s'\" % type(other))\n",
      "\u001b[0;32m/home/nhiranuma/anaconda2/lib/python2.7/site-packages/matplotlib/transforms.pyc\u001b[0m in \u001b[0;36mcomposite_transform_factory\u001b[0;34m(a, b)\u001b[0m\n\u001b[1;32m   2493\u001b[0m     \u001b[0;32melif\u001b[0m \u001b[0misinstance\u001b[0m\u001b[0;34m(\u001b[0m\u001b[0ma\u001b[0m\u001b[0;34m,\u001b[0m \u001b[0mAffine2D\u001b[0m\u001b[0;34m)\u001b[0m \u001b[0;32mand\u001b[0m \u001b[0misinstance\u001b[0m\u001b[0;34m(\u001b[0m\u001b[0mb\u001b[0m\u001b[0;34m,\u001b[0m \u001b[0mAffine2D\u001b[0m\u001b[0;34m)\u001b[0m\u001b[0;34m:\u001b[0m\u001b[0;34m\u001b[0m\u001b[0m\n\u001b[1;32m   2494\u001b[0m         \u001b[0;32mreturn\u001b[0m \u001b[0mCompositeAffine2D\u001b[0m\u001b[0;34m(\u001b[0m\u001b[0ma\u001b[0m\u001b[0;34m,\u001b[0m \u001b[0mb\u001b[0m\u001b[0;34m)\u001b[0m\u001b[0;34m\u001b[0m\u001b[0m\n\u001b[0;32m-> 2495\u001b[0;31m     \u001b[0;32mreturn\u001b[0m \u001b[0mCompositeGenericTransform\u001b[0m\u001b[0;34m(\u001b[0m\u001b[0ma\u001b[0m\u001b[0;34m,\u001b[0m \u001b[0mb\u001b[0m\u001b[0;34m)\u001b[0m\u001b[0;34m\u001b[0m\u001b[0m\n\u001b[0m\u001b[1;32m   2496\u001b[0m \u001b[0;34m\u001b[0m\u001b[0m\n\u001b[1;32m   2497\u001b[0m \u001b[0;34m\u001b[0m\u001b[0m\n",
      "\u001b[0;32m/home/nhiranuma/anaconda2/lib/python2.7/site-packages/matplotlib/transforms.pyc\u001b[0m in \u001b[0;36m__init__\u001b[0;34m(self, a, b, **kwargs)\u001b[0m\n\u001b[1;32m   2308\u001b[0m         \u001b[0mself\u001b[0m\u001b[0;34m.\u001b[0m\u001b[0m_a\u001b[0m \u001b[0;34m=\u001b[0m \u001b[0ma\u001b[0m\u001b[0;34m\u001b[0m\u001b[0m\n\u001b[1;32m   2309\u001b[0m         \u001b[0mself\u001b[0m\u001b[0;34m.\u001b[0m\u001b[0m_b\u001b[0m \u001b[0;34m=\u001b[0m \u001b[0mb\u001b[0m\u001b[0;34m\u001b[0m\u001b[0m\n\u001b[0;32m-> 2310\u001b[0;31m         \u001b[0mself\u001b[0m\u001b[0;34m.\u001b[0m\u001b[0mset_children\u001b[0m\u001b[0;34m(\u001b[0m\u001b[0ma\u001b[0m\u001b[0;34m,\u001b[0m \u001b[0mb\u001b[0m\u001b[0;34m)\u001b[0m\u001b[0;34m\u001b[0m\u001b[0m\n\u001b[0m\u001b[1;32m   2311\u001b[0m \u001b[0;34m\u001b[0m\u001b[0m\n\u001b[1;32m   2312\u001b[0m     \u001b[0mis_affine\u001b[0m \u001b[0;34m=\u001b[0m \u001b[0mproperty\u001b[0m\u001b[0;34m(\u001b[0m\u001b[0;32mlambda\u001b[0m \u001b[0mself\u001b[0m\u001b[0;34m:\u001b[0m \u001b[0mself\u001b[0m\u001b[0;34m.\u001b[0m\u001b[0m_a\u001b[0m\u001b[0;34m.\u001b[0m\u001b[0mis_affine\u001b[0m \u001b[0;32mand\u001b[0m \u001b[0mself\u001b[0m\u001b[0;34m.\u001b[0m\u001b[0m_b\u001b[0m\u001b[0;34m.\u001b[0m\u001b[0mis_affine\u001b[0m\u001b[0;34m)\u001b[0m\u001b[0;34m\u001b[0m\u001b[0m\n",
      "\u001b[0;32m/home/nhiranuma/anaconda2/lib/python2.7/site-packages/matplotlib/transforms.pyc\u001b[0m in \u001b[0;36mset_children\u001b[0;34m(self, *children)\u001b[0m\n\u001b[1;32m    169\u001b[0m         \"\"\"\n\u001b[1;32m    170\u001b[0m         \u001b[0;32mfor\u001b[0m \u001b[0mchild\u001b[0m \u001b[0;32min\u001b[0m \u001b[0mchildren\u001b[0m\u001b[0;34m:\u001b[0m\u001b[0;34m\u001b[0m\u001b[0m\n\u001b[0;32m--> 171\u001b[0;31m             \u001b[0mchild\u001b[0m\u001b[0;34m.\u001b[0m\u001b[0m_parents\u001b[0m\u001b[0;34m[\u001b[0m\u001b[0mid\u001b[0m\u001b[0;34m(\u001b[0m\u001b[0mself\u001b[0m\u001b[0;34m)\u001b[0m\u001b[0;34m]\u001b[0m \u001b[0;34m=\u001b[0m \u001b[0mself\u001b[0m\u001b[0;34m\u001b[0m\u001b[0m\n\u001b[0m\u001b[1;32m    172\u001b[0m \u001b[0;34m\u001b[0m\u001b[0m\n\u001b[1;32m    173\u001b[0m     \u001b[0;32mif\u001b[0m \u001b[0mDEBUG\u001b[0m\u001b[0;34m:\u001b[0m\u001b[0;34m\u001b[0m\u001b[0m\n",
      "\u001b[0;32m/home/nhiranuma/anaconda2/lib/python2.7/weakref.pyc\u001b[0m in \u001b[0;36m__setitem__\u001b[0;34m(self, key, value)\u001b[0m\n\u001b[1;32m    106\u001b[0m         \u001b[0;32mif\u001b[0m \u001b[0mself\u001b[0m\u001b[0;34m.\u001b[0m\u001b[0m_pending_removals\u001b[0m\u001b[0;34m:\u001b[0m\u001b[0;34m\u001b[0m\u001b[0m\n\u001b[1;32m    107\u001b[0m             \u001b[0mself\u001b[0m\u001b[0;34m.\u001b[0m\u001b[0m_commit_removals\u001b[0m\u001b[0;34m(\u001b[0m\u001b[0;34m)\u001b[0m\u001b[0;34m\u001b[0m\u001b[0m\n\u001b[0;32m--> 108\u001b[0;31m         \u001b[0mself\u001b[0m\u001b[0;34m.\u001b[0m\u001b[0mdata\u001b[0m\u001b[0;34m[\u001b[0m\u001b[0mkey\u001b[0m\u001b[0;34m]\u001b[0m \u001b[0;34m=\u001b[0m \u001b[0mKeyedRef\u001b[0m\u001b[0;34m(\u001b[0m\u001b[0mvalue\u001b[0m\u001b[0;34m,\u001b[0m \u001b[0mself\u001b[0m\u001b[0;34m.\u001b[0m\u001b[0m_remove\u001b[0m\u001b[0;34m,\u001b[0m \u001b[0mkey\u001b[0m\u001b[0;34m)\u001b[0m\u001b[0;34m\u001b[0m\u001b[0m\n\u001b[0m\u001b[1;32m    109\u001b[0m \u001b[0;34m\u001b[0m\u001b[0m\n\u001b[1;32m    110\u001b[0m     \u001b[0;32mdef\u001b[0m \u001b[0mclear\u001b[0m\u001b[0;34m(\u001b[0m\u001b[0mself\u001b[0m\u001b[0;34m)\u001b[0m\u001b[0;34m:\u001b[0m\u001b[0;34m\u001b[0m\u001b[0m\n",
      "\u001b[0;31mKeyboardInterrupt\u001b[0m: "
     ]
    }
   ],
   "source": [
    "# N0 divergence measure\n",
    "x = plot_samples(mus3, ys3, 50)"
   ]
  },
  {
   "cell_type": "code",
   "execution_count": 15,
   "metadata": {},
   "outputs": [
    {
     "ename": "NameError",
     "evalue": "name 'mus4' is not defined",
     "output_type": "error",
     "traceback": [
      "\u001b[0;31m---------------------------------------------------------------------------\u001b[0m",
      "\u001b[0;31mNameError\u001b[0m                                 Traceback (most recent call last)",
      "\u001b[0;32m<ipython-input-15-1ea11478e13b>\u001b[0m in \u001b[0;36m<module>\u001b[0;34m()\u001b[0m\n\u001b[1;32m      1\u001b[0m \u001b[0;31m# Renyi distribution with alpha 0->1 in 20 epochs\u001b[0m\u001b[0;34m\u001b[0m\u001b[0;34m\u001b[0m\u001b[0m\n\u001b[0;32m----> 2\u001b[0;31m \u001b[0mx\u001b[0m \u001b[0;34m=\u001b[0m \u001b[0mplot_samples\u001b[0m\u001b[0;34m(\u001b[0m\u001b[0mmus4\u001b[0m\u001b[0;34m,\u001b[0m \u001b[0mys4\u001b[0m\u001b[0;34m,\u001b[0m \u001b[0;36m50\u001b[0m\u001b[0;34m)\u001b[0m\u001b[0;34m\u001b[0m\u001b[0m\n\u001b[0m",
      "\u001b[0;31mNameError\u001b[0m: name 'mus4' is not defined"
     ]
    }
   ],
   "source": [
    "# Renyi distribution with alpha 0->1 in 20 epochs\n",
    "x = plot_samples(mus4, ys4, 50)"
   ]
  },
  {
   "cell_type": "markdown",
   "metadata": {},
   "source": [
    "# Change in variance over epochs"
   ]
  },
  {
   "cell_type": "code",
   "execution_count": null,
   "metadata": {
    "collapsed": true
   },
   "outputs": [],
   "source": [
    "def plotvar(sigmas):\n",
    "    data = []\n",
    "    for e in range(sigmas.shape[0]):\n",
    "        temp = []\n",
    "        for b in range(sigmas.shape[1]):\n",
    "            temp.append(np.mean(np.exp(sigmas[e][b]), axis=0))\n",
    "        temp = np.array(temp)\n",
    "        data.append(np.mean(temp, axis=0))\n",
    "    print \"Average variance at last epoch\", data[-1]\n",
    "    data = np.array(data)\n",
    "    plt.figure(figsize=(6,2))\n",
    "    plt.plot(data[:, 0])\n",
    "    plt.plot(data[:, 1])\n",
    "    plt.yscale(\"log\")\n",
    "    plt.show()"
   ]
  },
  {
   "cell_type": "code",
   "execution_count": null,
   "metadata": {
    "collapsed": true
   },
   "outputs": [],
   "source": [
    "plotvar(sigmas1)"
   ]
  },
  {
   "cell_type": "code",
   "execution_count": null,
   "metadata": {
    "collapsed": true
   },
   "outputs": [],
   "source": [
    "plotvar(sigmas2)"
   ]
  },
  {
   "cell_type": "code",
   "execution_count": null,
   "metadata": {
    "collapsed": true
   },
   "outputs": [],
   "source": [
    "plotvar(sigmas3)"
   ]
  },
  {
   "cell_type": "code",
   "execution_count": null,
   "metadata": {
    "collapsed": true
   },
   "outputs": [],
   "source": [
    "plotvar(sigmas4)"
   ]
  },
  {
   "cell_type": "markdown",
   "metadata": {},
   "source": [
    "# Generating digits from latent space"
   ]
  },
  {
   "cell_type": "code",
   "execution_count": null,
   "metadata": {
    "collapsed": true
   },
   "outputs": [],
   "source": [
    "latent_coords = []\n",
    "num = 30\n",
    "_min = -3.0\n",
    "_max = 3.0\n",
    "for i in range(num+1):\n",
    "    for j in range(num+1):\n",
    "        latent_coords.append([_min+(_max-_min)*1.0/num*i, _min+(_max-_min)*1.0/num*j])\n",
    "latent_coords = np.array(latent_coords)"
   ]
  },
  {
   "cell_type": "markdown",
   "metadata": {},
   "source": [
    "VAE without warmup"
   ]
  },
  {
   "cell_type": "code",
   "execution_count": null,
   "metadata": {
    "collapsed": true
   },
   "outputs": [],
   "source": [
    "# Given a decoder graph generating function, reconstructs image from latent values.\n",
    "def generate_image_from_decoder(dec, _input, save):\n",
    "    # rebuilding the network\n",
    "    g = VAE(DNN_encoder, DNN_decoder)\n",
    "    \n",
    "    # decoder only with shared weights\n",
    "    latent = tf.placeholder(tf.float32, (None, 2))\n",
    "    decoder = dec(latent, reuse=True)\n",
    "    decoder['latent'] = latent\n",
    "    \n",
    "    # running the decoder\n",
    "    with tf.Session() as sess:\n",
    "        saver = tf.train.import_meta_graph(save+'.meta')\n",
    "        saver.restore(sess,tf.train.latest_checkpoint(save.split(\"/\")[0]+'/'))\n",
    "        \n",
    "        # building validation data feed dict\n",
    "        val_feed = {decoder['latent']: _input}\n",
    "        return sess.run(decoder['reconstruction'], feed_dict=val_feed)"
   ]
  },
  {
   "cell_type": "code",
   "execution_count": null,
   "metadata": {
    "collapsed": true
   },
   "outputs": [],
   "source": [
    "def plot_image_generation(key, dec, coords, num):\n",
    "    sample = generate_image_from_decoder(dec, latent_coords, save=key)\n",
    "    image = np.zeros((28*(num+1), 28*(num+1)))\n",
    "    for i in range(num+1):\n",
    "        for j in range(num+1):\n",
    "            image[28*i:28*(i+1), 28*j:28*(j+1)] = (sample[i*(num+1)+j].reshape((28,28))\n",
    "                                                  )\n",
    "    plt.figure(figsize=(12,12))\n",
    "    plt.imshow(image)\n",
    "    plt.xticks([],[])\n",
    "    plt.yticks([],[])\n",
    "    plt.savefig(key+\"generative.png\")\n",
    "    plt.show()"
   ]
  },
  {
   "cell_type": "code",
   "execution_count": null,
   "metadata": {
    "collapsed": true
   },
   "outputs": [],
   "source": [
    "plot_image_generation(\"VAE_wo_warmup/model\", DNN_decoder, latent_coords, 30)"
   ]
  },
  {
   "cell_type": "code",
   "execution_count": null,
   "metadata": {
    "collapsed": true
   },
   "outputs": [],
   "source": [
    "plot_image_generation(\"VAE_w_warmup/model\", DNN_decoder, latent_coords, 30)"
   ]
  },
  {
   "cell_type": "code",
   "execution_count": null,
   "metadata": {
    "collapsed": true
   },
   "outputs": [],
   "source": [
    "plot_image_generation(\"NO-KLD/model\", DNN_decoder, latent_coords, 30)"
   ]
  },
  {
   "cell_type": "code",
   "execution_count": null,
   "metadata": {
    "collapsed": true
   },
   "outputs": [],
   "source": [
    "plot_image_generation(\"VAE_renyi/model\", DNN_decoder, latent_coords, 30)"
   ]
  },
  {
   "cell_type": "markdown",
   "metadata": {},
   "source": [
    "# Encoding and Decoding with LSTM"
   ]
  },
  {
   "cell_type": "code",
   "execution_count": null,
   "metadata": {
    "collapsed": true
   },
   "outputs": [],
   "source": [
    "def DNN_encoder(_input, latent_size=2, fn=tf.nn.sigmoid):\n",
    "    fc = slim.fully_connected(_input, 500, activation_fn=fn)\n",
    "    #fc = slim.fully_connected(fc, 250, activation_fn=fn)\n",
    "    fc = slim.fully_connected(fc, 100, activation_fn=fn)\n",
    "    _output = slim.fully_connected(fc, latent_size, activation_fn=fn)\n",
    "    return dict(\n",
    "    latent = _output,\n",
    "    )"
   ]
  },
  {
   "cell_type": "code",
   "execution_count": null,
   "metadata": {
    "collapsed": true
   },
   "outputs": [],
   "source": []
  }
 ],
 "metadata": {
  "kernelspec": {
   "display_name": "Python 2",
   "language": "python",
   "name": "python2"
  },
  "language_info": {
   "codemirror_mode": {
    "name": "ipython",
    "version": 2
   },
   "file_extension": ".py",
   "mimetype": "text/x-python",
   "name": "python",
   "nbconvert_exporter": "python",
   "pygments_lexer": "ipython2",
   "version": "2.7.13"
  }
 },
 "nbformat": 4,
 "nbformat_minor": 2
}
