{
 "cells": [
  {
   "cell_type": "code",
   "execution_count": 16,
   "metadata": {
    "collapsed": true
   },
   "outputs": [],
   "source": [
    "import tensorflow as tf\n",
    "from edward.models import Normal, Empirical, Categorical, Multinomial\n",
    "import edward as ed\n",
    "import numpy as np"
   ]
  },
  {
   "cell_type": "markdown",
   "metadata": {},
   "source": [
    "# Defining the layers.\n",
    "\n",
    "In Edward you can define weight variables with different kinds of priors. Here is my simple implementation of conv2d tensor with Edward weights (0 mean 1 variance Gaussian prior). It uses **tf.nn.conv2d** layers."
   ]
  },
  {
   "cell_type": "code",
   "execution_count": 2,
   "metadata": {
    "collapsed": true
   },
   "outputs": [],
   "source": [
    "def edward_conv2d(_input, _filter, _kernel, _stride, name, reuse=None):\n",
    "    with tf.variable_scope(name, reuse=reuse):\n",
    "        #############\n",
    "        # Variables #\n",
    "        #############\n",
    "        #Weights \n",
    "        w = Normal(loc=tf.zeros([_kernel[0],_kernel[1], _input.shape[-1]._value,_filter]), scale=tf.ones([_kernel[0],_kernel[1],1,_filter]))\n",
    "        #Bias\n",
    "        b = tf.get_variable(\"b\", shape=(_filter,))\n",
    "        \n",
    "        #################\n",
    "        # Actual Conv2d #\n",
    "        #################\n",
    "        #Conv2d\n",
    "        op = tf.nn.conv2d(_input, w, strides=[1,_stride,_stride,1], padding='SAME')\n",
    "        _output = tf.nn.bias_add(op, b, data_format='NHWC')\n",
    "        _output = tf.nn.relu(_output)\n",
    "        return _output, w, b"
   ]
  },
  {
   "cell_type": "code",
   "execution_count": 3,
   "metadata": {
    "collapsed": true
   },
   "outputs": [],
   "source": [
    "def edward_dense(_input, _output, name, reuse=None):\n",
    "    with tf.variable_scope(name, reuse=reuse):\n",
    "        #############\n",
    "        # Variables #\n",
    "        #############\n",
    "        #Weights \n",
    "        w = Normal(loc=tf.zeros([_input.shape[-1]._value, _output]), scale=tf.ones([_input.shape[-1]._value, _output]))\n",
    "        #Bias\n",
    "        b = tf.get_variable(\"b\", shape=(_output,))\n",
    "        \n",
    "        return tf.nn.relu(tf.matmul(_input, w)+b), w, b"
   ]
  },
  {
   "cell_type": "markdown",
   "metadata": {},
   "source": [
    "# Defining the model.\n",
    "\n",
    "The model is defined as 2 layer convolution network with 16 and 32 kernels of size 3 by 3. I have a 2 layer dense network (64 and 10 hiddne layers, respectively) on top of the convolution structure. "
   ]
  },
  {
   "cell_type": "code",
   "execution_count": 4,
   "metadata": {
    "collapsed": true
   },
   "outputs": [],
   "source": [
    "# Including weights to tf.nn.conv2d layer.\n",
    "# Simple convolution network.\n",
    "\n",
    "data = tf.placeholder(tf.float32, [None, 28,28,1])\n",
    "conv1, w_conv1, b = edward_conv2d(data, 16, [3,3], 2, \"conv1\")\n",
    "conv2, w_conv2, b = edward_conv2d(conv1, 32, [3,3], 2, \"conv2\")\n",
    "flat = tf.contrib.layers.flatten(conv2)\n",
    "dense1, w_dense1, b = edward_dense(flat, 64, \"dense1\")\n",
    "dense2, w_dense2, b = edward_dense(dense1, 10, \"dense2\")\n",
    "target = Multinomial(total_count=4., logits=dense2)"
   ]
  },
  {
   "cell_type": "markdown",
   "metadata": {},
   "source": [
    "# Loading the data\n",
    "\n",
    "We use first 4000 data points from MNIST.  \n",
    "This is the same setup as Remy's implementation using NUTs."
   ]
  },
  {
   "cell_type": "code",
   "execution_count": 6,
   "metadata": {},
   "outputs": [
    {
     "name": "stdout",
     "output_type": "stream",
     "text": [
      "Extracting MNIST_data/train-images-idx3-ubyte.gz\n",
      "Extracting MNIST_data/train-labels-idx1-ubyte.gz\n",
      "Extracting MNIST_data/t10k-images-idx3-ubyte.gz\n",
      "Extracting MNIST_data/t10k-labels-idx1-ubyte.gz\n"
     ]
    }
   ],
   "source": [
    "from tensorflow.examples.tutorials.mnist import input_data\n",
    "mnist = input_data.read_data_sets(\"MNIST_data/\", one_hot=True)"
   ]
  },
  {
   "cell_type": "code",
   "execution_count": 7,
   "metadata": {
    "collapsed": true
   },
   "outputs": [],
   "source": [
    "X = np.expand_dims(mnist.train._images.reshape(55000,28,28)[:4000], 3)\n",
    "Y = mnist.train._labels[:4000]"
   ]
  },
  {
   "cell_type": "markdown",
   "metadata": {},
   "source": [
    "# Posterior Inference with SGHMC.\n",
    "\n",
    "I played around with different stepsize but it seems that everything goes to **Nan**.  \n",
    "I definitely need to explore this more."
   ]
  },
  {
   "cell_type": "code",
   "execution_count": 8,
   "metadata": {
    "collapsed": true
   },
   "outputs": [],
   "source": [
    "T = 10000       # Number of samples.\n",
    "nburn = 1000    # Number of burn-in samples.\n",
    "stride = 10     # Frequency with which to plot samples.\n",
    "stepsize = 1e-4 # Stepsize for sgHMC inference."
   ]
  },
  {
   "cell_type": "code",
   "execution_count": 9,
   "metadata": {
    "collapsed": true
   },
   "outputs": [],
   "source": [
    "qw_conv1 = Empirical(params=tf.Variable(tf.random_normal([T]+[s._value for s in w_conv1.shape])))\n",
    "qw_conv2 = Empirical(params=tf.Variable(tf.random_normal([T]+[s._value for s in w_conv2.shape])))\n",
    "qw_dense1 = Empirical(params=tf.Variable(tf.random_normal([T]+[s._value for s in w_dense1.shape])))\n",
    "qw_dense2 = Empirical(params=tf.Variable(tf.random_normal([T]+[s._value for s in w_dense2.shape])))"
   ]
  },
  {
   "cell_type": "code",
   "execution_count": 10,
   "metadata": {
    "scrolled": false
   },
   "outputs": [
    {
     "name": "stdout",
     "output_type": "stream",
     "text": [
      "10000/10000 [100%] ██████████████████████████████ Elapsed: 239s | Acceptance Rate: 1.000\n"
     ]
    }
   ],
   "source": [
    "inference = ed.SGHMC({w_conv1: qw_conv1, w_conv2: qw_conv2, w_dense1: qw_dense1, w_dense2: qw_dense2},\\\n",
    "                     data={data: X, target: Y})\n",
    "inference.run(step_size=stepsize)"
   ]
  },
  {
   "cell_type": "code",
   "execution_count": 15,
   "metadata": {},
   "outputs": [
    {
     "data": {
      "text/plain": [
       "array([[ nan,  nan,  nan, ...,  nan,  nan,  nan],\n",
       "       [ nan,  nan,  nan, ...,  nan,  nan,  nan],\n",
       "       [ nan,  nan,  nan, ...,  nan,  nan,  nan],\n",
       "       ..., \n",
       "       [ nan,  nan,  nan, ...,  nan,  nan,  nan],\n",
       "       [ nan,  nan,  nan, ...,  nan,  nan,  nan],\n",
       "       [ nan,  nan,  nan, ...,  nan,  nan,  nan]], dtype=float32)"
      ]
     },
     "execution_count": 15,
     "metadata": {},
     "output_type": "execute_result"
    }
   ],
   "source": [
    "qw_dense1.eval()"
   ]
  },
  {
   "cell_type": "markdown",
   "metadata": {},
   "source": [
    "I cannot seem to resolve this NaN issue."
   ]
  },
  {
   "cell_type": "code",
   "execution_count": null,
   "metadata": {
    "collapsed": true
   },
   "outputs": [],
   "source": []
  }
 ],
 "metadata": {
  "kernelspec": {
   "display_name": "Python 2",
   "language": "python",
   "name": "python2"
  },
  "language_info": {
   "codemirror_mode": {
    "name": "ipython",
    "version": 2
   },
   "file_extension": ".py",
   "mimetype": "text/x-python",
   "name": "python",
   "nbconvert_exporter": "python",
   "pygments_lexer": "ipython2",
   "version": "2.7.13"
  }
 },
 "nbformat": 4,
 "nbformat_minor": 2
}
