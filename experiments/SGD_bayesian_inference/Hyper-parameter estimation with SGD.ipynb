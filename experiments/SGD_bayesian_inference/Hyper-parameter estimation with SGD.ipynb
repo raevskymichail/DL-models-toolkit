{
 "cells": [
  {
   "cell_type": "code",
   "execution_count": 1,
   "metadata": {
    "collapsed": true
   },
   "outputs": [],
   "source": [
    "import util\n",
    "import numpy as np\n",
    "import tensorflow as tf\n",
    "import matplotlib.pyplot as plt\n",
    "import seaborn as sns\n",
    "import pystan"
   ]
  },
  {
   "cell_type": "markdown",
   "metadata": {},
   "source": [
    "# Data loading\n",
    "\n",
    "We are still sticking with the wine quality data from UCL ML repository. It is a regression problem with 11 features.  \n",
    "Using analytical solution of L2_ridge regression, we start our SGD posterior sampling and hyperparmeter optimization process. "
   ]
  },
  {
   "cell_type": "code",
   "execution_count": 2,
   "metadata": {
    "collapsed": true
   },
   "outputs": [],
   "source": [
    "wine = [[float(j) for j in i.rstrip().split(\";\")] for i in open(\"../../ipynb/SGDasABI/winequality-white.csv\").readlines()[1:]]\n",
    "wine = np.array(wine)"
   ]
  },
  {
   "cell_type": "code",
   "execution_count": 3,
   "metadata": {
    "collapsed": true
   },
   "outputs": [],
   "source": [
    "# Shuffling.\n",
    "index = np.arange(wine.shape[0])\n",
    "np.random.shuffle(index)\n",
    "wine_itr = util.dataiter(wine[index ,:-1], wine[index ,-1])"
   ]
  },
  {
   "cell_type": "code",
   "execution_count": 4,
   "metadata": {},
   "outputs": [
    {
     "name": "stdout",
     "output_type": "stream",
     "text": [
      "11 4898\n"
     ]
    }
   ],
   "source": [
    "D = wine_itr.d\n",
    "N = wine_itr.n\n",
    "print D,N"
   ]
  },
  {
   "cell_type": "markdown",
   "metadata": {},
   "source": [
    "Estimating the analytically true solution.\n"
   ]
  },
  {
   "cell_type": "code",
   "execution_count": 5,
   "metadata": {
    "collapsed": true
   },
   "outputs": [],
   "source": [
    "X = wine_itr.X\n",
    "Y = wine_itr.Y\n",
    "XtX = np.linalg.inv(np.dot(np.transpose(X), X)+np.eye(wine_itr.d))\n",
    "XtY = np.dot(np.transpose(X), Y)\n",
    "W = np.dot(XtX, XtY)"
   ]
  },
  {
   "cell_type": "markdown",
   "metadata": {},
   "source": [
    "Loading the true posterior distributions"
   ]
  },
  {
   "cell_type": "code",
   "execution_count": 6,
   "metadata": {
    "collapsed": true
   },
   "outputs": [],
   "source": [
    "truth = np.load(\"RWMH-posteior.npy\")"
   ]
  },
  {
   "cell_type": "markdown",
   "metadata": {},
   "source": [
    "# Full-covariance SGD sampling with hyperparameter optimization.\n",
    "\n",
    "We use the full covariance method from the paper.  \n",
    "Hyper-parameters are optimized via variational expected maximization.  \n",
    "The exact objective function for each batch in a stochastic gradient descent is shown below.\n",
    "\n",
    "$ [\\frac{1}{S}\\Sigma_{s} \\frac{(y-w\\cdot x)^2}{2}]+[\\frac{\\lambda}{2N}\\Sigma_{d}w^2_{d}] + [\\frac{D}{2N}log(\\lambda)]$"
   ]
  },
  {
   "cell_type": "code",
   "execution_count": 7,
   "metadata": {
    "collapsed": true
   },
   "outputs": [],
   "source": [
    "def model(W, D, N):\n",
    "    D = D*1.0\n",
    "    N = N*1.0\n",
    "    #resetting parameters\n",
    "    util.reset_graph()\n",
    "    \n",
    "    # Input and output\n",
    "    # Use Placeholder in tf for input and output.\n",
    "    x_tf = tf.placeholder(tf.float64, [None, wine_itr.d])  # data matrix\n",
    "    y_tf = tf.placeholder(tf.float64, [None, 1]) # target matrix\n",
    "    lambda_tf = tf.Variable(1.0, name=\"h\", dtype=tf.float64) #tf.Variable(1.0, name=\"h\")\n",
    "    learning_rate = tf.placeholder(tf.float64)\n",
    "    \n",
    "    # Single fully connected layer\n",
    "    # Loads in the noise + optimal weights calculated above as a starting point\n",
    "    W_tf = tf.Variable(W, name=\"w\") # weight matrix\n",
    "    dense = tf.matmul(x_tf, W_tf) # fully connected multiplication\n",
    "    \n",
    "    # Objective function. This needs to be absolutely correct.\n",
    "    cost = tf.reduce_mean(tf.square(tf.subtract(y_tf, dense)))/2.0\\\n",
    "        +lambda_tf/2.0*tf.reduce_sum(tf.square(W_tf))/N\\\n",
    "        -D/2.0*tf.log(lambda_tf)/N\n",
    "    \n",
    "    # Optimization operations\n",
    "    # SGD of learning rate 1 is used because we can manually \n",
    "    # multiply gradients with custom learning rate later.\n",
    "    optimizer_sgd = tf.train.GradientDescentOptimizer(learning_rate)\n",
    "    \n",
    "    # Get trainable variables\n",
    "    tvars = tf.trainable_variables()\n",
    "    wvars = [i for i in tvars if i._variable.name[0] == \"w\"]\n",
    "    hvars = [i for i in tvars if i._variable.name[0] == \"h\"]\n",
    "    \n",
    "    # Get gradients with respect to parameters\n",
    "    w_gradients = optimizer_sgd.compute_gradients(cost, wvars)\n",
    "    h_gradients = optimizer_sgd.compute_gradients(cost, hvars)\n",
    "\n",
    "    # Learing rates holder. This is a tuple of placeholders that\n",
    "    # match the size of the parameters in the variable holders.\n",
    "    precision_holders = tuple(tf.placeholder(tf.float64, [np.prod([i.value for i in g[0].shape]),\\\n",
    "                        np.prod([i.value for i in g[0].shape])]) for g in w_gradients)\n",
    "    \n",
    "    # Calculating a sgd step given prescition matrix.\n",
    "    sgd_steps = [(tf.matmul(precision_holders[i], w_gradients[i][0]),\\\n",
    "                           w_gradients[i][1]) for i in range(len(w_gradients))]\n",
    "    \n",
    "    # Applying it to current weights.\n",
    "    train_w = optimizer_sgd.apply_gradients(sgd_steps)\n",
    "    train_h = optimizer_sgd.apply_gradients(h_gradients)\n",
    "    \n",
    "    return dict(\n",
    "        x = x_tf,\n",
    "        y = y_tf,\n",
    "        _lambda = lambda_tf,\n",
    "        lr = learning_rate,\n",
    "        w_gradients = w_gradients,\n",
    "        h_gradients = h_gradients,\n",
    "        train_w = train_w,\n",
    "        train_h = train_h,\n",
    "        current_w = W_tf,\n",
    "        precision_matrix = precision_holders\n",
    "    )"
   ]
  },
  {
   "cell_type": "code",
   "execution_count": 8,
   "metadata": {
    "collapsed": true
   },
   "outputs": [],
   "source": [
    "def SGD_sampling(m):\n",
    "    # defining necessary parameters\n",
    "    sample_num = 30001\n",
    "    burnin = 1000\n",
    "    batch_size = 100\n",
    "    lr = 0.01\n",
    "    decay = 0.9999\n",
    "\n",
    "    init = tf.global_variables_initializer()\n",
    "    with tf.Session() as sess:\n",
    "        sess.run(init)\n",
    "\n",
    "        epsilons = []\n",
    "        samples =[]\n",
    "        lambdas = []\n",
    "\n",
    "        # C keeps track of current gradient covariance.\n",
    "        C = np.zeros((11,11))\n",
    "        for s in range(sample_num):\n",
    "            if (len(samples)+1)%5000 == 0:\n",
    "                print \"Collected\", len(samples)+1, \"samples\"\n",
    "\n",
    "            # get a batch of samples\n",
    "            xb, yb = wine_itr.next(batch_size)\n",
    "\n",
    "            # get the batch wise stochastic gradient\n",
    "            gb = sess.run(m[\"w_gradients\"], feed_dict={m[\"x\"]: xb, m[\"y\"]: yb, m[\"lr\"]:1.0})\n",
    "            g1 = sess.run(m[\"w_gradients\"], feed_dict={m[\"x\"]: xb[0:1,], m[\"y\"]: yb[0:1,], m[\"lr\"]:1.0})\n",
    "\n",
    "            # calculating the learning rate\n",
    "            temp = np.dot(g1[0][0]-gb[0][0], np.transpose(g1[0][0]-gb[0][0]))\n",
    "            k = 1.0/(s+1)\n",
    "            C = (1-k)*C + k*temp\n",
    "            epsilon = 2.0*batch_size/N*np.linalg.inv(C)\n",
    "            epsilons.append(epsilon)\n",
    "\n",
    "            # get cost and gradients and weights\n",
    "            if s > burnin:\n",
    "                w, _ = sess.run([m[\"current_w\"], m[\"train_w\"]], \\\n",
    "                                 feed_dict={m[\"x\"]: xb, m[\"y\"]: yb, m[\"precision_matrix\"]:[epsilon], m[\"lr\"]:1.0})\n",
    "                lr = lr*decay\n",
    "                _, gh = sess.run([m[\"train_h\"], m[\"h_gradients\"]], feed_dict={m[\"x\"]: xb, m[\"y\"]: yb, m[\"lr\"]:lr})            \n",
    "                lambdas.append(sess.run(m[\"_lambda\"]))                     \n",
    "                samples.append(w[:,0])\n",
    "\n",
    "    samples = np.array(samples)\n",
    "    print lr\n",
    "    return samples, lambdas"
   ]
  },
  {
   "cell_type": "markdown",
   "metadata": {},
   "source": [
    "# Running the experiments."
   ]
  },
  {
   "cell_type": "markdown",
   "metadata": {},
   "source": [
    "Building the model and sampling"
   ]
  },
  {
   "cell_type": "code",
   "execution_count": 9,
   "metadata": {
    "collapsed": true
   },
   "outputs": [],
   "source": [
    "m = model(W, D, N)"
   ]
  },
  {
   "cell_type": "code",
   "execution_count": 10,
   "metadata": {
    "scrolled": true
   },
   "outputs": [
    {
     "name": "stdout",
     "output_type": "stream",
     "text": [
      "Collected 5000 samples\n",
      "Collected 10000 samples\n",
      "Collected 15000 samples\n",
      "Collected 20000 samples\n",
      "Collected 25000 samples\n",
      "0.000550152417361\n"
     ]
    }
   ],
   "source": [
    "samples, lambdas = SGD_sampling(m)"
   ]
  },
  {
   "cell_type": "markdown",
   "metadata": {},
   "source": [
    "Here we compare weights with optimal hyperparmeters and weights with lambda = 1.0"
   ]
  },
  {
   "cell_type": "markdown",
   "metadata": {},
   "source": [
    "You can see that the hyperparameter stabilizes around 0.03 with SGD stepsize decay of 0.99 per time step."
   ]
  },
  {
   "cell_type": "code",
   "execution_count": 43,
   "metadata": {},
   "outputs": [
    {
     "data": {
      "image/png": "[encoded data removed]",
      "text/plain": [
       "<matplotlib.figure.Figure at 0x1241fdb50>"
      ]
     },
     "metadata": {},
     "output_type": "display_data"
    },
    {
     "name": "stdout",
     "output_type": "stream",
     "text": [
      "Last value 0.03683350986\n"
     ]
    }
   ],
   "source": [
    "plt.figure(figsize=(15,2))\n",
    "plt.plot(lambdas)\n",
    "plt.xlim(0,len(lambdas))\n",
    "plt.ylabel(\"Lambda\")\n",
    "plt.xlabel(\"iterations\")\n",
    "plt.show()\n",
    "print \"Last value\", lambdas[-1]"
   ]
  },
  {
   "cell_type": "markdown",
   "metadata": {},
   "source": [
    "# Optimization with STAN"
   ]
  },
  {
   "cell_type": "code",
   "execution_count": 136,
   "metadata": {
    "collapsed": true
   },
   "outputs": [],
   "source": [
    "model_code = \"\"\"\n",
    "data {\n",
    "  int n;                                \n",
    "  int m;\n",
    "  matrix[n, m] A;\n",
    "  vector[n] y;\n",
    "}\n",
    "parameters {\n",
    "  vector[m] delta;\n",
    "  real<lower=0> lambda;\n",
    "}\n",
    "model {\n",
    "  lambda ~ exponential(0.01);\n",
    "  for (i in 1:m) {\n",
    "    delta[i] ~ normal(0, lambda);\n",
    "  }\n",
    "  y ~ normal(A * delta, 1);\n",
    "}\n",
    "\"\"\""
   ]
  },
  {
   "cell_type": "code",
   "execution_count": 137,
   "metadata": {
    "collapsed": true
   },
   "outputs": [],
   "source": [
    "data = {\n",
    "    \"n\": wine_itr.X.shape[0],\n",
    "    \"m\": wine_itr.d,\n",
    "    \"A\": wine_itr.X,\n",
    "    \"y\": wine_itr.Y[:,0]\n",
    "}"
   ]
  },
  {
   "cell_type": "code",
   "execution_count": 138,
   "metadata": {},
   "outputs": [
    {
     "name": "stderr",
     "output_type": "stream",
     "text": [
      "INFO:pystan:COMPILING THE C++ CODE FOR MODEL anon_model_e1d4b361529b1feb86f37bdc01786447 NOW.\n"
     ]
    }
   ],
   "source": [
    "fit = pystan.stan(model_code=model_code, data=data, iter=1500, warmup=500, chains=1)"
   ]
  },
  {
   "cell_type": "code",
   "execution_count": 139,
   "metadata": {},
   "outputs": [
    {
     "data": {
      "text/plain": [
       "Inference for Stan model: anon_model_e1d4b361529b1feb86f37bdc01786447.\n",
       "1 chains, each with iter=1500; warmup=500; thin=1; \n",
       "post-warmup draws per chain=1000, total post-warmup draws=1000.\n",
       "\n",
       "            mean se_mean     sd   2.5%    25%    50%    75%  97.5%  n_eff   Rhat\n",
       "delta[0]    1.33    0.01   0.27    0.8   1.14   1.34   1.52   1.85  476.0    1.0\n",
       "delta[1]   -1.17  5.7e-3   0.15  -1.48  -1.27  -1.17  -1.07  -0.87  737.0    1.0\n",
       "delta[2]    1.07  7.2e-3    0.2   0.67   0.94   1.07   1.21   1.44  774.0    1.0\n",
       "delta[3]   -3.26    0.03   0.59  -4.48  -3.64  -3.25  -2.87  -2.04  428.0    1.0\n",
       "delta[4]    1.79  8.1e-3   0.24    1.3   1.64   1.79   1.94   2.25  853.0    1.0\n",
       "delta[5]    3.09    0.01   0.33   2.48   2.87   3.09   3.32   3.73  711.0    1.0\n",
       "delta[6]    0.32  7.9e-3   0.21   -0.1   0.19   0.32   0.46   0.74  692.0    1.0\n",
       "delta[7]   14.48    0.06   1.11  12.26  13.72  14.48  15.19  16.82  391.0    1.0\n",
       "delta[8]     1.5  6.3e-3   0.14   1.22   1.41   1.51    1.6   1.79  526.0    1.0\n",
       "delta[9]    0.56  3.7e-3   0.11   0.34   0.49   0.56   0.64   0.78  889.0    1.0\n",
       "delta[10]   5.75  7.4e-3   0.15   5.46   5.65   5.75   5.85   6.06  402.0    1.0\n",
       "lambda      5.67    0.05   1.46   3.66   4.62   5.42   6.37   9.21 1000.0    1.0\n",
       "lp__       -2159    0.12   2.38  -2165  -2161  -2159  -2158  -2156  427.0    1.0\n",
       "\n",
       "Samples were drawn using NUTS at Fri Sep  1 15:40:53 2017.\n",
       "For each parameter, n_eff is a crude measure of effective sample size,\n",
       "and Rhat is the potential scale reduction factor on split chains (at \n",
       "convergence, Rhat=1)."
      ]
     },
     "execution_count": 139,
     "metadata": {},
     "output_type": "execute_result"
    }
   ],
   "source": [
    "fit"
   ]
  },
  {
   "cell_type": "code",
   "execution_count": 129,
   "metadata": {
    "collapsed": true
   },
   "outputs": [],
   "source": [
    "stan_samples = fit.extract()[\"delta\"]"
   ]
  },
  {
   "cell_type": "code",
   "execution_count": 135,
   "metadata": {},
   "outputs": [
    {
     "data": {
      "image/png": "[encoded data removed]",
      "text/plain": [
       "<matplotlib.figure.Figure at 0x11ee15bd0>"
      ]
     },
     "metadata": {},
     "output_type": "display_data"
    },
    {
     "name": "stdout",
     "output_type": "stream",
     "text": [
      "Green: SGD\n",
      "Red: STAN\n",
      "Blue: RMWH without regularization\n"
     ]
    }
   ],
   "source": [
    "util.plot_posterior([samples, stan_samples, truth], [\"green\", \"red\", \"blue\"])\n",
    "print \"Green: SGD\"\n",
    "print \"Red: STAN\"\n",
    "print \"Blue: RMWH without regularization\""
   ]
  },
  {
   "cell_type": "markdown",
   "metadata": {},
   "source": [
    "Lambda of 0.03 is 0.03/2 = 0.015 "
   ]
  },
  {
   "cell_type": "markdown",
   "metadata": {},
   "source": [
    "# Finding the right hyperparameter with cross-validation\n",
    "\n",
    "Again, the objective function is  \n",
    "$ [\\frac{1}{2S}\\Sigma_{s} \\frac{(y-w\\cdot x)^2}{2}]+[\\frac{\\lambda}{2N}\\Sigma_{d}w^2_{d}] - [\\frac{D}{2N}log(\\lambda)]$\n",
    "\n",
    "We treat lambda as a constant so we can drop the last term.\n",
    "For the whole data set our objective is..  \n",
    "$ [\\frac{1}{2N}\\Sigma_{n} \\frac{(y-w\\cdot x)^2}{2}]+[\\frac{\\lambda}{2N}\\Sigma_{d}w^2_{d}]$  \n",
    "\n",
    "Again, the closed form solution is here.  \n",
    "$L = (Y−X\\beta)^T(Y−X\\beta)+\\lambda\\beta^T\\beta$  \n",
    "$W_{opt}=(X^TX+\\lambda I)^{-1}X^TY$"
   ]
  },
  {
   "cell_type": "code",
   "execution_count": 46,
   "metadata": {
    "collapsed": true
   },
   "outputs": [],
   "source": [
    "def getW(X, Y, _lambda):\n",
    "    XtX = np.linalg.inv(np.dot(np.transpose(X), X)+_lambda*np.eye(wine_itr.d))\n",
    "    XtY = np.dot(np.transpose(X), Y)\n",
    "    W = np.dot(XtX, XtY)\n",
    "    return W"
   ]
  },
  {
   "cell_type": "code",
   "execution_count": 47,
   "metadata": {
    "collapsed": true
   },
   "outputs": [],
   "source": [
    "def testW(X, Y, W):\n",
    "    return np.mean(np.square(Y - np.dot(X,W)))"
   ]
  },
  {
   "cell_type": "code",
   "execution_count": 48,
   "metadata": {
    "collapsed": true
   },
   "outputs": [],
   "source": [
    "def get_splits(data, num_batch, batch):\n",
    "    index = data[0].shape[0]/num_batch\n",
    "    ret = []\n",
    "    for d in data:\n",
    "        train = []\n",
    "        for i in range(num_batch):\n",
    "            if batch == i:\n",
    "                valid = d[index*i:index*(i+1)]\n",
    "            else:\n",
    "                train.append(d[index*i:index*(i+1)])\n",
    "        ret.append([np.concatenate(train, axis=0), valid])\n",
    "    return ret"
   ]
  },
  {
   "cell_type": "code",
   "execution_count": 49,
   "metadata": {
    "collapsed": true
   },
   "outputs": [],
   "source": [
    "MSEs = []\n",
    "regularizer = [1.1**(-1*i) for i in range(-10, 80)]\n",
    "for l in regularizer:\n",
    "    total_mse = []\n",
    "    for i in range(5):\n",
    "        (xb, xbv), (yb, ybv) = get_splits((X,Y), 5, i)\n",
    "        W = getW(xb, yb, l)\n",
    "        mse = testW(xbv, ybv, W)\n",
    "        total_mse.append(mse)\n",
    "    MSEs.append(np.mean(total_mse))"
   ]
  },
  {
   "cell_type": "markdown",
   "metadata": {},
   "source": [
    "There must be something off about my implementation...."
   ]
  },
  {
   "cell_type": "code",
   "execution_count": 51,
   "metadata": {},
   "outputs": [
    {
     "data": {
      "image/png": "[encoded data removed]",
      "text/plain": [
       "<matplotlib.figure.Figure at 0x1247b6b90>"
      ]
     },
     "metadata": {},
     "output_type": "display_data"
    }
   ],
   "source": [
    "plt.figure(figsize=(8,4))\n",
    "plt.plot(regularizer, MSEs, label=\"MSE by analytical solution\")\n",
    "plt.xscale(\"log\")\n",
    "plt.axvline(0.03/40, c=\"gray\", ls=\"--\", label=\"SGD method\")\n",
    "plt.axvline(0.22, c=\"red\", ls=\"--\", label=\"STAN\")\n",
    "plt.xlabel(\"Regularizer\")\n",
    "plt.ylabel(\"MSE\")\n",
    "plt.legend(fontsize=14)\n",
    "plt.show()"
   ]
  },
  {
   "cell_type": "code",
   "execution_count": null,
   "metadata": {
    "collapsed": true
   },
   "outputs": [],
   "source": []
  }
 ],
 "metadata": {
  "kernelspec": {
   "display_name": "Python 2",
   "language": "python",
   "name": "python2"
  },
  "language_info": {
   "codemirror_mode": {
    "name": "ipython",
    "version": 2
   },
   "file_extension": ".py",
   "mimetype": "text/x-python",
   "name": "python",
   "nbconvert_exporter": "python",
   "pygments_lexer": "ipython2",
   "version": "2.7.13"
  }
 },
 "nbformat": 4,
 "nbformat_minor": 2
}
