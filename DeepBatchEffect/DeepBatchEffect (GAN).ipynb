{
 "cells": [
  {
   "cell_type": "code",
   "execution_count": 1,
   "metadata": {
    "collapsed": true
   },
   "outputs": [],
   "source": [
    "import util\n",
    "import numpy as np\n",
    "import matplotlib.pyplot as plt\n",
    "import tensorflow as tf\n",
    "import sys"
   ]
  },
  {
   "cell_type": "markdown",
   "metadata": {},
   "source": [
    "# Two batches "
   ]
  },
  {
   "cell_type": "code",
   "execution_count": 2,
   "metadata": {},
   "outputs": [
    {
     "name": "stdout",
     "output_type": "stream",
     "text": [
      "Extracting MNIST_data/train-images-idx3-ubyte.gz\n",
      "Extracting MNIST_data/train-labels-idx1-ubyte.gz\n",
      "Extracting MNIST_data/t10k-images-idx3-ubyte.gz\n",
      "Extracting MNIST_data/t10k-labels-idx1-ubyte.gz\n"
     ]
    }
   ],
   "source": [
    "from tensorflow.examples.tutorials.mnist import input_data\n",
    "mnist = input_data.read_data_sets(\"MNIST_data/\", one_hot=True)\n",
    "\n",
    "X = mnist.train._images.reshape(55000, 28, 28, 1)\n",
    "Y = mnist.train._labels\n",
    "index = np.arange(55000)\n",
    "np.random.shuffle(index)\n",
    "\n",
    "#batch1 = util.BatchFeeder(X[index[:27000]], Y[index[:27000]], 64)\n",
    "#batch2 = util.BatchFeeder(X[index[27000:54000]]+np.ones((27000,28,28,1))/2.0, Y[index[27000:54000]], 64)\n",
    "\n",
    "batch1 = util.BatchFeeder(X[index[:27000]], np.zeros((27000, 1)), 64)\n",
    "batch2 = util.BatchFeeder(X[index[27000:54000]]/2.0, np.ones((27000, 1)), 64)"
   ]
  },
  {
   "cell_type": "code",
   "execution_count": 11,
   "metadata": {},
   "outputs": [
    {
     "data": {
      "image/png": "[encoded data removed]",
      "text/plain": [
       "<matplotlib.figure.Figure at 0x7f751c341910>"
      ]
     },
     "metadata": {},
     "output_type": "display_data"
    }
   ],
   "source": [
    "x = batch1.next()[0][0,:,:,0]\n",
    "plt.figure(figsize=(1,1))\n",
    "plt.imshow(x, cmap=\"gray\", vmin=0, vmax=1)\n",
    "plt.show()"
   ]
  },
  {
   "cell_type": "code",
   "execution_count": 16,
   "metadata": {},
   "outputs": [
    {
     "data": {
      "image/png": "[encoded data removed]",
      "text/plain": [
       "<matplotlib.figure.Figure at 0x7f751c513290>"
      ]
     },
     "metadata": {},
     "output_type": "display_data"
    }
   ],
   "source": [
    "x = batch2.next()[0][0,:,:,0]\n",
    "plt.figure(figsize=(1,1))\n",
    "plt.imshow(x, cmap=\"gray\", vmin=0, vmax=1)\n",
    "plt.show()"
   ]
  },
  {
   "cell_type": "markdown",
   "metadata": {},
   "source": [
    "# Model with 2 layer CNN"
   ]
  },
  {
   "cell_type": "code",
   "execution_count": 5,
   "metadata": {
    "collapsed": true
   },
   "outputs": [],
   "source": [
    "class DeepBatch:\n",
    "    def __init__(self):\n",
    "        # Reset all existing tensors\n",
    "        tf.reset_default_graph()\n",
    "        \n",
    "        # Parameters\n",
    "        self.built = False\n",
    "        self.sesh = tf.Session()\n",
    "        self.e = 0\n",
    "        \n",
    "        # Building the graph\n",
    "        self.ops = self.build()\n",
    "        self.sesh.run(tf.global_variables_initializer())\n",
    "    \n",
    "    def build(self):\n",
    "        if self.built:\n",
    "            return -1\n",
    "        else:\n",
    "            self.built = True\n",
    "             \n",
    "        # Placeholders for input\n",
    "        x = tf.placeholder(tf.float32, shape=[None, 28, 28, 1], name=\"x\")\n",
    "        y = tf.placeholder(tf.float32, shape=[None, 1], name=\"y\")\n",
    "        \n",
    "        # Network\n",
    "        out = self.discriminator(x, reuse=None)\n",
    "        prediction = tf.nn.sigmoid(out)\n",
    "            \n",
    "        # Define cost as the sum of KL and reconstrunction ross with BinaryXent.\n",
    "        with tf.name_scope(\"cost\"):\n",
    "            # average over minibatch\n",
    "            cost = tf.reduce_mean(tf.nn.sigmoid_cross_entropy_with_logits(labels=y, logits=out))\n",
    "            input_cost = tf.reduce_mean(tf.nn.sigmoid_cross_entropy_with_logits(labels=tf.square(y-1), logits=out))\n",
    "        \n",
    "        # Optimization\n",
    "        with tf.name_scope(\"Adam_optimizer\"):\n",
    "            optimizer = tf.train.AdamOptimizer()\n",
    "            tvars = tf.trainable_variables()\n",
    "            grads_and_vars = optimizer.compute_gradients(cost, tvars)\n",
    "            clipped = [(tf.clip_by_value(grad, -5, 5), tvar) for grad, tvar in grads_and_vars]\n",
    "            train = optimizer.apply_gradients(clipped, name=\"minimize_cost\")\n",
    "            \n",
    "        gs = tf.gradients(ys=input_cost, xs=x)[0]\n",
    "        gs2 = -1*tf.gradients(ys=cost, xs=x)[0]\n",
    "        print gs, cost, x\n",
    "            \n",
    "        return dict(\n",
    "            x = x,  \n",
    "            y = y,\n",
    "            train = train,\n",
    "            cost = cost,\n",
    "            prediction = prediction,\n",
    "            gs = gs,\n",
    "            gs2 = gs2\n",
    "        )\n",
    "    \n",
    "    def discriminator(self, _input, reuse=None):\n",
    "        with tf.variable_scope(\"discriminator\", reuse=reuse):\n",
    "            # Network\n",
    "            layer1 = tf.contrib.layers.conv2d(_input, 64, kernel_size=(5,5), activation_fn=tf.nn.relu)\n",
    "            layer1 = tf.contrib.layers.max_pool2d(layer1, kernel_size=(3,3), stride=(2,2))\n",
    "\n",
    "            layer2 = tf.contrib.layers.conv2d(layer1, 128, kernel_size=(5,5), activation_fn=tf.nn.relu)\n",
    "            layer2 = tf.contrib.layers.max_pool2d(layer2, kernel_size=(3,3), stride=(2,2))\n",
    "\n",
    "            dense = tf.contrib.layers.flatten(layer2)\n",
    "            out = tf.contrib.layers.fully_connected(dense, 1, activation_fn=tf.identity)\n",
    "        return out\n",
    "    \n",
    "    # Closing session\n",
    "    def close(self):\n",
    "        self.sesh.close()\n",
    "    \n",
    "    # training procedure.\n",
    "    def train(self, X1, X2, epochs):\n",
    "        \n",
    "        # Defining the number of batches per epoch\n",
    "        batch_num = int(np.ceil(X1.n*1.0/X1.batch_size))\n",
    "        \n",
    "        e = 0\n",
    "        start_e = self.e\n",
    "        while e < epochs:\n",
    "            \n",
    "            for i in range(batch_num):\n",
    "                #Training happens here.\n",
    "                batch1 = X1.next()\n",
    "                batch2 = X2.next()\n",
    "                feed_dict = {self.ops[\"x\"]: np.concatenate([batch1[0], batch2[0]], axis=0),\n",
    "                             self.ops[\"y\"]: np.concatenate([batch1[1], batch2[1]], axis=0)}\n",
    "                ops_to_run = [self.ops[\"cost\"],\n",
    "                              self.ops[\"prediction\"],\n",
    "                              self.ops[\"gs\"],\n",
    "                              self.ops[\"gs2\"],\n",
    "                              self.ops[\"train\"]]\n",
    "                cost, pred, gs, gs2, _= self.sesh.run(ops_to_run, feed_dict)\n",
    "                \n",
    "                if e%5 == 0:\n",
    "                    \n",
    "                \n",
    "                #Print progress\n",
    "                sys.stdout.write(\"\\rEpoch: [%2d/%2d] Batch: [%2d/%2d] loss: %.2f\"%(self.e, start_e+epochs, i, batch_num, cost))\n",
    "            self.e+=1\n",
    "            e+= 1\n",
    "        return gs, gs2, pred, np.concatenate([batch1[0], batch2[0]], axis=0)\n",
    "            \n",
    "    def save(self, folder):\n",
    "        saver = tf.train.Saver(tf.all_variables())\n",
    "        os.system(\"mkdir \"+folder)\n",
    "        saver.save(self.sesh, folder+\"/model.ckpt\")\n",
    "        \n",
    "    def load(self, folder):\n",
    "        saver = tf.train.Saver(tf.all_variables())\n",
    "        saver.restore(self.sesh, folder+\"/model.ckpt\")"
   ]
  },
  {
   "cell_type": "code",
   "execution_count": 6,
   "metadata": {
    "scrolled": false
   },
   "outputs": [
    {
     "name": "stdout",
     "output_type": "stream",
     "text": [
      "Tensor(\"gradients/discriminator/Conv/Conv2D_grad/Conv2DBackpropInput:0\", shape=(?, 28, 28, 1), dtype=float32) Tensor(\"cost/Mean:0\", shape=(), dtype=float32) Tensor(\"x:0\", shape=(?, 28, 28, 1), dtype=float32)\n"
     ]
    }
   ],
   "source": [
    "model = DeepBatch()"
   ]
  },
  {
   "cell_type": "code",
   "execution_count": 7,
   "metadata": {},
   "outputs": [
    {
     "name": "stdout",
     "output_type": "stream",
     "text": [
      "Epoch: [ 0/ 1] Batch: [421/422] loss: 0.00"
     ]
    }
   ],
   "source": [
    "out = model.train(batch1, batch2, 1)"
   ]
  },
  {
   "cell_type": "code",
   "execution_count": 66,
   "metadata": {},
   "outputs": [
    {
     "name": "stdout",
     "output_type": "stream",
     "text": [
      "batch1: 61\n"
     ]
    },
    {
     "data": {
      "image/png": "[encoded data removed]",
      "text/plain": [
       "<matplotlib.figure.Figure at 0x7f751c2b36d0>"
      ]
     },
     "metadata": {},
     "output_type": "display_data"
    },
    {
     "name": "stdout",
     "output_type": "stream",
     "text": [
      "batch2: 65\n"
     ]
    },
    {
     "data": {
      "image/png": "[encoded data removed]",
      "text/plain": [
       "<matplotlib.figure.Figure at 0x7f7521475a90>"
      ]
     },
     "metadata": {},
     "output_type": "display_data"
    }
   ],
   "source": [
    "index = np.random.randint(64)\n",
    "multiplier = 100\n",
    "print \"batch1:\", index\n",
    "\n",
    "plt.figure(figsize=(4,1))\n",
    "plt.subplot(141)\n",
    "plt.imshow(out[3][index, :, :, 0], cmap=\"gray\", vmin=0, vmax=1)\n",
    "plt.yticks([],[])\n",
    "plt.xticks([],[])\n",
    "plt.title(\"original\")\n",
    "plt.subplot(142)\n",
    "plt.imshow(out[0][index, :, :, 0], cmap=\"gray\")\n",
    "plt.yticks([],[])\n",
    "plt.xticks([],[])\n",
    "plt.title(\"flipped\")\n",
    "plt.subplot(143)\n",
    "plt.imshow(out[1][index, :, :, 0], cmap=\"gray\")\n",
    "plt.yticks([],[])\n",
    "plt.xticks([],[])\n",
    "plt.title(\"negative\")\n",
    "plt.subplot(144)\n",
    "plt.imshow(out[3][index, :, :, 0], cmap=\"gray\", vmin=0, vmax=1)\n",
    "plt.yticks([],[])\n",
    "plt.xticks([],[])\n",
    "plt.title(\"batched\")\n",
    "plt.show()\n",
    "\n",
    "index = np.random.randint(64)+64\n",
    "print \"batch2:\", index\n",
    "\n",
    "plt.figure(figsize=(4,1))\n",
    "plt.subplot(141)\n",
    "plt.imshow(out[3][index, :, :, 0], cmap=\"gray\", vmin=0, vmax=1)\n",
    "plt.yticks([],[])\n",
    "plt.xticks([],[])\n",
    "plt.title(\"original\")\n",
    "plt.subplot(142)\n",
    "plt.imshow(out[0][index, :, :, 0], cmap=\"gray\")\n",
    "plt.yticks([],[])\n",
    "plt.xticks([],[])\n",
    "plt.title(\"flipped\")\n",
    "plt.subplot(143)\n",
    "plt.imshow(out[1][index, :, :, 0], cmap=\"gray\")\n",
    "plt.yticks([],[])\n",
    "plt.xticks([],[])\n",
    "plt.title(\"negative\")\n",
    "plt.subplot(144)\n",
    "plt.imshow(out[3][index, :, :, 0]-out[0][index, :, :, 0]*multiplier, cmap=\"gray\", vmin=0, vmax=1)\n",
    "plt.yticks([],[])\n",
    "plt.xticks([],[])\n",
    "plt.title(\"batched\")\n",
    "plt.show()"
   ]
  },
  {
   "cell_type": "code",
   "execution_count": null,
   "metadata": {
    "collapsed": true
   },
   "outputs": [],
   "source": []
  }
 ],
 "metadata": {
  "kernelspec": {
   "display_name": "Python 2",
   "language": "python",
   "name": "python2"
  },
  "language_info": {
   "codemirror_mode": {
    "name": "ipython",
    "version": 2
   },
   "file_extension": ".py",
   "mimetype": "text/x-python",
   "name": "python",
   "nbconvert_exporter": "python",
   "pygments_lexer": "ipython2",
   "version": "2.7.14"
  }
 },
 "nbformat": 4,
 "nbformat_minor": 2
}
