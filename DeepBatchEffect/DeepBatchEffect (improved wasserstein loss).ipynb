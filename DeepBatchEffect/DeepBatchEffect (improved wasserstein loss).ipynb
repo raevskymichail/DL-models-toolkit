{
 "cells": [
  {
   "cell_type": "code",
   "execution_count": 123,
   "metadata": {
    "collapsed": true
   },
   "outputs": [],
   "source": [
    "import util\n",
    "import numpy as np\n",
    "import matplotlib.pyplot as plt\n",
    "import tensorflow as tf\n",
    "import sys"
   ]
  },
  {
   "cell_type": "markdown",
   "metadata": {},
   "source": [
    "# Two batches "
   ]
  },
  {
   "cell_type": "code",
   "execution_count": 124,
   "metadata": {},
   "outputs": [
    {
     "name": "stdout",
     "output_type": "stream",
     "text": [
      "Extracting MNIST_data/train-images-idx3-ubyte.gz\n",
      "Extracting MNIST_data/train-labels-idx1-ubyte.gz\n",
      "Extracting MNIST_data/t10k-images-idx3-ubyte.gz\n",
      "Extracting MNIST_data/t10k-labels-idx1-ubyte.gz\n"
     ]
    }
   ],
   "source": [
    "from tensorflow.examples.tutorials.mnist import input_data\n",
    "mnist = input_data.read_data_sets(\"MNIST_data/\", one_hot=True)\n",
    "\n",
    "X = mnist.train._images.reshape(55000, 28, 28, 1)\n",
    "Y = mnist.train._labels\n",
    "index = np.arange(55000)\n",
    "np.random.shuffle(index)\n",
    "\n",
    "#batch1 = util.BatchFeeder(X[index[:27000]], Y[index[:27000]], 64)\n",
    "#batch2 = util.BatchFeeder(X[index[27000:54000]]+np.ones((27000,28,28,1))/2.0, Y[index[27000:54000]], 64)\n",
    "\n",
    "batch1 = util.BatchFeeder(X[index[:128*210]], np.zeros((128*210, 1)), 128)\n",
    "batch2 = util.BatchFeeder(X[index[128*210:128*210*2]]+np.ones((128*210,28,28,1))/2.0, np.ones((128*210, 1)), 128)"
   ]
  },
  {
   "cell_type": "code",
   "execution_count": 125,
   "metadata": {},
   "outputs": [
    {
     "data": {
      "image/png": "[encoded data removed]",
      "text/plain": [
       "<matplotlib.figure.Figure at 0x7f2d2f325650>"
      ]
     },
     "metadata": {},
     "output_type": "display_data"
    }
   ],
   "source": [
    "x = batch1.next()[0][0,:,:,0]\n",
    "plt.figure(figsize=(1,1))\n",
    "plt.imshow(x, cmap=\"gray\", vmin=0, vmax=1)\n",
    "plt.show()"
   ]
  },
  {
   "cell_type": "code",
   "execution_count": 126,
   "metadata": {},
   "outputs": [
    {
     "data": {
      "image/png": "[encoded data removed]",
      "text/plain": [
       "<matplotlib.figure.Figure at 0x7f2d127547d0>"
      ]
     },
     "metadata": {},
     "output_type": "display_data"
    }
   ],
   "source": [
    "x = batch2.next()[0][0,:,:,0]\n",
    "plt.figure(figsize=(1,1))\n",
    "plt.imshow(x, cmap=\"gray\", vmin=0, vmax=1)\n",
    "plt.show()"
   ]
  },
  {
   "cell_type": "markdown",
   "metadata": {},
   "source": [
    "# Model with 2 layer CNN"
   ]
  },
  {
   "cell_type": "code",
   "execution_count": 131,
   "metadata": {
    "collapsed": true
   },
   "outputs": [],
   "source": [
    "class DeepBatch:\n",
    "    def __init__(self):\n",
    "        # Reset all existing tensors\n",
    "        tf.reset_default_graph()\n",
    "        \n",
    "        # Parameters\n",
    "        self.built = False\n",
    "        self.batchsize = 128\n",
    "        self._lambda = 10\n",
    "        self.sesh = tf.Session()\n",
    "        self.e = 0\n",
    "        \n",
    "        # Building the graph\n",
    "        self.ops = self.build()\n",
    "        self.sesh.run(tf.global_variables_initializer())\n",
    "    \n",
    "    def build(self):\n",
    "        if self.built:\n",
    "            return -1\n",
    "        else:\n",
    "            self.built = True\n",
    "             \n",
    "        # Placeholders for input\n",
    "        x1 = tf.placeholder(tf.float32, shape=[self.batchsize, 28, 28, 1], name=\"x1\")\n",
    "        x2 = tf.placeholder(tf.float32, shape=[self.batchsize, 28, 28, 1], name=\"x2\")\n",
    "        \n",
    "        # Network\n",
    "        out1 = self.discriminator(x1, reuse=None)\n",
    "        out2 = self.discriminator(x2, reuse=True)\n",
    "            \n",
    "        # Define cost as the sum of KL and reconstrunction ross with BinaryXent.\n",
    "        with tf.name_scope(\"cost\"):\n",
    "            \n",
    "            ########### Loss calculations ############\n",
    "            alpha = tf.random_uniform(shape=[self.batchsize,1] ,minval =0., maxval=1.) # here we calculate the gradient penalty \n",
    "            difference = x2 - x1\n",
    "            inter = []\n",
    "            for i in range(self.batchsize): \n",
    "                inter.append(difference[i] *alpha[i])\n",
    "            inter = tf.stack(inter)\n",
    "            \n",
    "            interpolates = x1 + inter\n",
    "            gradients = tf.gradients(self.discriminator(interpolates, reuse= True),[interpolates])[0]\n",
    "            slopes = tf.sqrt(tf.reduce_sum(tf.square(gradients), reduction_indices=[1]))\n",
    "            gradient_penalty = tf.reduce_mean((slopes-1.)**2.)\n",
    "        \n",
    "            d_loss = -tf.reduce_mean(out1) + tf.reduce_mean(out2) + 10.*gradient_penalty\n",
    "            g_loss = -tf.reduce_mean(out2)\n",
    "    \n",
    "        # Optimization\n",
    "        with tf.name_scope(\"Adam_optimizer\"):\n",
    "            train = tf.train.AdamOptimizer( learning_rate = 1e-4, beta1=0.5, beta2=0.9).minimize(d_loss)\n",
    "            gs = tf.gradients(ys=g_loss, xs=x2)[0]\n",
    "            print gs\n",
    "            \n",
    "        return dict(\n",
    "            x1 = x1,  \n",
    "            x2 = x2,  \n",
    "            train = train,\n",
    "            d_loss = d_loss,\n",
    "            g_loss = g_loss,\n",
    "            gs = gs\n",
    "        )\n",
    "    \n",
    "    def discriminator(self, _input, reuse=None):\n",
    "        with tf.variable_scope(\"discriminator\", reuse=reuse):\n",
    "            # Network\n",
    "            layer1 = tf.contrib.layers.conv2d(_input, 64, kernel_size=(5,5), activation_fn=tf.nn.relu)\n",
    "            layer1 = tf.contrib.layers.max_pool2d(layer1, kernel_size=(3,3), stride=(2,2))\n",
    "\n",
    "            layer2 = tf.contrib.layers.conv2d(layer1, 128, kernel_size=(5,5), activation_fn=tf.nn.relu)\n",
    "            layer2 = tf.contrib.layers.max_pool2d(layer2, kernel_size=(3,3), stride=(2,2))\n",
    "\n",
    "            dense = tf.contrib.layers.flatten(layer2)\n",
    "            out = tf.contrib.layers.fully_connected(dense, 1, activation_fn=tf.identity)\n",
    "        return out\n",
    "    \n",
    "    # Closing session\n",
    "    def close(self):\n",
    "        self.sesh.close()\n",
    "    \n",
    "    # training procedure.\n",
    "    def train(self, X1, X2, epochs):\n",
    "        \n",
    "        # Defining the number of batches per epoch\n",
    "        batch_num = int(np.ceil(X1.n*1.0/X1.batch_size))\n",
    "        \n",
    "        e = 0\n",
    "        start_e = self.e\n",
    "        ret = []\n",
    "        while e < epochs:\n",
    "            \n",
    "            if e%5 == 0:\n",
    "                temp = []\n",
    "            \n",
    "            for i in range(batch_num):\n",
    "                #Training happens here.\n",
    "                batch1 = X1.next()\n",
    "                batch2 = X2.next()\n",
    "                feed_dict = {self.ops[\"x1\"]: batch1[0],\n",
    "                             self.ops[\"x2\"]: batch2[0]}\n",
    "                ops_to_run = [self.ops[\"d_loss\"],\n",
    "                              self.ops[\"g_loss\"],\n",
    "                              self.ops[\"gs\"],\n",
    "                              self.ops[\"train\"]]\n",
    "                cost, _, gs, _= self.sesh.run(ops_to_run, feed_dict)\n",
    "                \n",
    "                sys.stdout.write(\"\\rEpoch: [%2d/%2d] Batch: [%2d/%2d] loss: %.2f\"%(self.e, start_e+epochs, i, batch_num, -1*cost))\n",
    "\n",
    "                if e%5 == 0:\n",
    "                    temp.append(batch2[0]-0.01*gs)\n",
    "                \n",
    "            if e%5 == 0:\n",
    "                ret.append(X)\n",
    "                temp = np.concatenate(temp, axis=0)\n",
    "                X2 = util.BatchFeeder(temp, np.ones((128*210, 1)), 128)\n",
    "            self.e+=1\n",
    "            e+= 1\n",
    "        return gs, np.concatenate([batch1[0], batch2[0]], axis=0), ret\n",
    "            \n",
    "    def save(self, folder):\n",
    "        saver = tf.train.Saver(tf.all_variables())\n",
    "        os.system(\"mkdir \"+folder)\n",
    "        saver.save(self.sesh, folder+\"/model.ckpt\")\n",
    "        \n",
    "    def load(self, folder):\n",
    "        saver = tf.train.Saver(tf.all_variables())\n",
    "        saver.restore(self.sesh, folder+\"/model.ckpt\")"
   ]
  },
  {
   "cell_type": "code",
   "execution_count": 132,
   "metadata": {},
   "outputs": [
    {
     "name": "stdout",
     "output_type": "stream",
     "text": [
      "Tensor(\"Adam_optimizer/gradients_1/discriminator_1/Conv/Conv2D_grad/Conv2DBackpropInput:0\", shape=(128, 28, 28, 1), dtype=float32)\n"
     ]
    }
   ],
   "source": [
    "model = DeepBatch()"
   ]
  },
  {
   "cell_type": "code",
   "execution_count": 133,
   "metadata": {},
   "outputs": [
    {
     "name": "stdout",
     "output_type": "stream",
     "text": [
      "Epoch: [19/20] Batch: [209/210] loss: 209.56"
     ]
    }
   ],
   "source": [
    "out = model.train(batch1, batch2, 20)"
   ]
  },
  {
   "cell_type": "code",
   "execution_count": 134,
   "metadata": {},
   "outputs": [
    {
     "name": "stdout",
     "output_type": "stream",
     "text": [
      "ind: 110\n"
     ]
    },
    {
     "data": {
      "image/png": "[encoded data removed]",
      "text/plain": [
       "<matplotlib.figure.Figure at 0x7f2d2fc4b9d0>"
      ]
     },
     "metadata": {},
     "output_type": "display_data"
    }
   ],
   "source": [
    "index = np.random.randint(128)\n",
    "print \"ind:\", index\n",
    "\n",
    "plt.figure(figsize=(3,1))\n",
    "plt.subplot(131)\n",
    "plt.imshow(out[1][index, :, :, 0], cmap=\"gray\", vmin=0, vmax=1)\n",
    "plt.yticks([],[])\n",
    "plt.xticks([],[])\n",
    "plt.title(\"original\")\n",
    "plt.subplot(132)\n",
    "plt.imshow(out[1][index+128, :, :, 0], cmap=\"gray\", vmin=0, vmax=1)\n",
    "plt.yticks([],[])\n",
    "plt.xticks([],[])\n",
    "plt.title(\"batched\")\n",
    "plt.subplot(133)\n",
    "plt.imshow(out[0][index, :, :, 0], cmap=\"gray\")\n",
    "plt.yticks([],[])\n",
    "plt.xticks([],[])\n",
    "plt.title(\"batched\")\n",
    "plt.show()"
   ]
  },
  {
   "cell_type": "code",
   "execution_count": null,
   "metadata": {
    "collapsed": true
   },
   "outputs": [],
   "source": []
  }
 ],
 "metadata": {
  "kernelspec": {
   "display_name": "Python 2",
   "language": "python",
   "name": "python2"
  },
  "language_info": {
   "codemirror_mode": {
    "name": "ipython",
    "version": 2
   },
   "file_extension": ".py",
   "mimetype": "text/x-python",
   "name": "python",
   "nbconvert_exporter": "python",
   "pygments_lexer": "ipython2",
   "version": "2.7.14"
  }
 },
 "nbformat": 4,
 "nbformat_minor": 2
}
