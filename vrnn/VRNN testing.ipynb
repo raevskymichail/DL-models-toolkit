{
 "cells": [
  {
   "cell_type": "code",
   "execution_count": 1,
   "metadata": {
    "collapsed": true
   },
   "outputs": [],
   "source": [
    "import tensorflow as tf\n",
    "import numpy as np\n",
    "import util\n",
    "import matplotlib.pyplot as plt"
   ]
  },
  {
   "cell_type": "markdown",
   "metadata": {},
   "source": [
    "# MNIST DATA"
   ]
  },
  {
   "cell_type": "code",
   "execution_count": 2,
   "metadata": {},
   "outputs": [
    {
     "name": "stdout",
     "output_type": "stream",
     "text": [
      "Extracting MNIST_data/train-images-idx3-ubyte.gz\n",
      "Extracting MNIST_data/train-labels-idx1-ubyte.gz\n",
      "Extracting MNIST_data/t10k-images-idx3-ubyte.gz\n",
      "Extracting MNIST_data/t10k-labels-idx1-ubyte.gz\n"
     ]
    }
   ],
   "source": [
    "from tensorflow.examples.tutorials.mnist import input_data\n",
    "mnist = input_data.read_data_sets(\"MNIST_data/\", one_hot=True)\n",
    "\n",
    "X = mnist.train._images.reshape(55000, 28, 28)\n",
    "Y = mnist.train._labels\n",
    "index = np.arange(55000)\n",
    "np.random.shuffle(index)\n",
    "\n",
    "train_bf = util.BatchFeeder(X[index[:54000]], Y[index[:54000]], 64)\n",
    "valid_bf = util.BatchFeeder(X[index[54000:]], Y[index[54000:]], 32)"
   ]
  },
  {
   "cell_type": "markdown",
   "metadata": {},
   "source": [
    "# Custom VRNN cell implementation with logistic output\n",
    "\n",
    "Reference: https://arxiv.org/abs/1506.02216  \n",
    "Works with both **dynamic_rnn** and **static_rnn**"
   ]
  },
  {
   "cell_type": "code",
   "execution_count": 3,
   "metadata": {
    "collapsed": true
   },
   "outputs": [],
   "source": [
    "'''\n",
    "Variational Recurrent AutoEncoder implementation as an RNN cell in Tensorflow.\n",
    "'''\n",
    "\n",
    "class VRNNCell(tf.contrib.rnn.RNNCell):\n",
    "    def __init__(self, num_units, dim_latent, dim_phix, dim_phiz, dim_x, rnn_unit=tf.contrib.rnn.LSTMCell):\n",
    "        \n",
    "        self.num_units = num_units #number of units in LSTM cell\n",
    "        self.dim_latent = dim_latent #dimention of the latent space.\n",
    "        \n",
    "        # Transformation of X and Z (phix and phiz)\n",
    "        self.dim_phix = dim_phix #dimensionality of the output of phix.\n",
    "        self.dim_phiz = dim_phiz #dimensionality of the output of phiz.\n",
    "        self.dim_enc = dim_latent #dimensionalty of encoder output\n",
    "        self.dim_dec = dim_x #dimensionalty of decoder output\n",
    "        self.dim_x = dim_x\n",
    "        \n",
    "        # Using it for transition of h. \n",
    "        self.rnn_unit = rnn_unit(self.num_units, state_is_tuple=True) # \"f\" of the equation 7\n",
    "        \n",
    "    @property\n",
    "    def state_size(self):\n",
    "        return (self.num_units, self.num_units)\n",
    "\n",
    "    @property\n",
    "    def output_size(self):\n",
    "        return (self.dim_latent, self.dim_latent, self.dim_latent, self.dim_latent, self.dim_x)\n",
    "    \n",
    "    def __call__(self, x, state, scope=None):\n",
    "        with tf.variable_scope(scope or type(self).__name__):\n",
    "            h, c = state\n",
    "            \n",
    "            # Defining prior distribution\n",
    "            prior_mu, prior_sigma = self.prior(h)\n",
    "            \n",
    "            # Defining latent distribution with encoder\n",
    "            phix = self.transform_x(x)\n",
    "            latent_mu, latent_sigma = self.encoder(phix, h)\n",
    "            \n",
    "            # Sample from the latent distribution with reparameterization trick\n",
    "            z = self.sample(latent_mu, latent_sigma)\n",
    "            \n",
    "            # Defining output distribution with decoder\n",
    "            phiz = self.transform_z(z)\n",
    "            reconst = self.decoder(phiz, h)\n",
    "            \n",
    "            # Updating hidden states for next iteration\n",
    "            _, newstate = self.rnn_unit(tf.concat([phix, phiz], axis=1,), state)\n",
    "            \n",
    "            # Return updated states and parameters of distributions\n",
    "            return (prior_mu, prior_sigma,\n",
    "                    latent_mu, latent_sigma,\n",
    "                    reconst), (newstate[0], newstate[1])\n",
    "    \n",
    "    # Reparametrization trick\n",
    "    def sample(self, mu, sigma):\n",
    "        with tf.name_scope(\"sample_reparam\"):\n",
    "            epsilon = tf.random_normal(tf.shape(sigma), name=\"0mean1varGaus\")\n",
    "            return mu + epsilon * sigma\n",
    "            \n",
    "    # Equation 9\n",
    "    # The decoder takes in h at t-1 and phix\n",
    "    def encoder(self, phix, h):\n",
    "        with tf.variable_scope(\"encoder\"):\n",
    "            latent_h =  tf.contrib.slim.fully_connected(tf.concat([phix, h], axis=1),\n",
    "                                                        self.dim_enc, \n",
    "                                                        activation_fn=tf.nn.relu)\n",
    "            latent_mu = tf.contrib.slim.fully_connected(latent_h, \n",
    "                                                        self.dim_latent, \n",
    "                                                        activation_fn=tf.identity)\n",
    "            latent_sigma = tf.contrib.slim.fully_connected(latent_h, \n",
    "                                                           self.dim_latent, \n",
    "                                                           activation_fn=tf.nn.elu)\n",
    "            \n",
    "            return latent_mu, latent_sigma\n",
    "\n",
    "    # Equation 6\n",
    "    def decoder(self, phiz, h):\n",
    "        with tf.variable_scope(\"decoder\"):\n",
    "            x_h = tf.contrib.slim.fully_connected(tf.concat([phiz, h], axis=1),\n",
    "                                                  self.dim_dec, \n",
    "                                                  activation_fn=tf.nn.relu)\n",
    "            reconst = tf.contrib.slim.fully_connected(x_h,\n",
    "                                                      self.dim_x,\n",
    "                                                      activation_fn=tf.sigmoid)\n",
    "            return reconst\n",
    "        \n",
    "    # This applies subnetwork on x to generate phix\n",
    "    def transform_x(self, x):\n",
    "        with tf.variable_scope(\"phix\"):\n",
    "            return tf.contrib.slim.fully_connected(x, self.dim_phix, activation_fn=tf.nn.relu)\n",
    "        \n",
    "    # This applies subnetwork on z to generate phiz\n",
    "    def transform_z(self, z):\n",
    "        with tf.variable_scope(\"phiz\"):\n",
    "            return tf.contrib.slim.fully_connected(z, self.dim_phiz, activation_fn=tf.nn.relu)\n",
    "    \n",
    "    # This is a subnetwork that takes in h at t-1 and outputs parameters for prior at t\n",
    "    # Equation 5: z ∼ N(µ, diag(σ2)) , where [µ,σ] = ϕprior(ht−1)\n",
    "    def prior(self, h):\n",
    "        with tf.variable_scope(\"prior\"):\n",
    "            \n",
    "            # This can be deeper.\n",
    "            prior_h = tf.contrib.slim.fully_connected(h,\n",
    "                                                      self.dim_latent,\n",
    "                                                      activation_fn=tf.nn.relu)\n",
    "            prior_mu = tf.contrib.slim.fully_connected(prior_h,\n",
    "                                                       self.dim_latent, \n",
    "                                                       activation_fn=tf.identity)\n",
    "            prior_sigma = tf.contrib.slim.fully_connected(prior_h, \n",
    "                                                          self.dim_latent, \n",
    "                                                          activation_fn=tf.nn.elu)\n",
    "            \n",
    "            return prior_mu, prior_sigma"
   ]
  },
  {
   "cell_type": "markdown",
   "metadata": {},
   "source": [
    "Instantiating as a static RNN"
   ]
  },
  {
   "cell_type": "code",
   "execution_count": 4,
   "metadata": {
    "collapsed": true,
    "scrolled": false
   },
   "outputs": [],
   "source": [
    "tf.reset_default_graph()\n",
    "cell = VRNNCell(num_units=64,\n",
    "                dim_latent=5,\n",
    "                dim_phix=20,\n",
    "                dim_phiz=5,\n",
    "                dim_x=31)\n",
    "init_states = cell.zero_state(32, dtype=tf.float32)\n",
    "inputs = tf.placeholder(dtype=tf.float32, shape=[32, 128, 31], name='input')\n",
    "inputs = [tf.squeeze(t)  for t in tf.split(axis=1, num_or_size_splits=128, value=inputs)]\n",
    "outputs, last_state = tf.contrib.rnn.static_rnn(cell, inputs, initial_state=init_states)"
   ]
  },
  {
   "cell_type": "markdown",
   "metadata": {},
   "source": [
    "Instantiating as a dnynamic RNN"
   ]
  },
  {
   "cell_type": "code",
   "execution_count": 5,
   "metadata": {
    "collapsed": true
   },
   "outputs": [],
   "source": [
    "tf.reset_default_graph()\n",
    "cell = VRNNCell(num_units=64,\n",
    "                dim_latent=5,\n",
    "                dim_phix=20,\n",
    "                dim_phiz=5,\n",
    "                dim_x=31)\n",
    "init_states = cell.zero_state(32, dtype=tf.float32)\n",
    "inputs = tf.placeholder(dtype=tf.float32, shape=[32, 128, 31], name='input')\n",
    "outputs, last_state = tf.nn.dynamic_rnn(cell, inputs, initial_state=init_states)"
   ]
  },
  {
   "cell_type": "markdown",
   "metadata": {},
   "source": [
    "# Implementing the whole VRNN model\n",
    "\n",
    "We need to do the following things:\n",
    "- Unroll the VRNNcell\n",
    "- define KL divergence loss\n",
    "- Define reconstruction/likelihood loss"
   ]
  },
  {
   "cell_type": "code",
   "execution_count": 74,
   "metadata": {
    "collapsed": true
   },
   "outputs": [],
   "source": [
    "class VRNN():\n",
    "    def __init__(self):\n",
    "        # Reset all existing tensors\n",
    "        tf.reset_default_graph()\n",
    "        \n",
    "        # Core parameters\n",
    "        self.built = False\n",
    "        self.sesh = tf.Session()\n",
    "        self.e = 0\n",
    "        \n",
    "        # Tracking data\n",
    "        self.learning_curve = []\n",
    "        self.record = {\"x_\":[], \"latent_mu\":[], \"prior_mu\":[]}\n",
    "        \n",
    "        # Model specific parameters\n",
    "        self.lr = 0.001\n",
    "        self.batchsize = 64\n",
    "        self.dim_latent=2\n",
    "        self.input_shape = [28,28]\n",
    "        \n",
    "        # Building the graph\n",
    "        self.ops = self.__build()\n",
    "        self.sesh.run(tf.global_variables_initializer())\n",
    "    \n",
    "    def __build(self):\n",
    "        if self.built:\n",
    "            return -1\n",
    "        else:\n",
    "            self.built = True\n",
    "            \n",
    "        #Instantiate cells\n",
    "        cell = VRNNCell(num_units=16,\n",
    "                        dim_latent=self.dim_latent,\n",
    "                        dim_phix=10,\n",
    "                        dim_phiz=2,\n",
    "                        dim_x=self.input_shape[1])\n",
    "\n",
    "        # Define inputs\n",
    "        x = tf.placeholder(dtype=tf.float32, shape=[self.batchsize]+self.input_shape, name='input')\n",
    "\n",
    "        #Unroll LSTM cells\n",
    "        init_states = cell.zero_state(self.batchsize, dtype=tf.float32)\n",
    "        (prior_mu, prior_sigma, latent_mu, latent_sigma, reconst), last_state = tf.nn.dynamic_rnn(cell, x, initial_state=init_states)\n",
    "\n",
    "        #Define loss\n",
    "        with tf.variable_scope(\"cost\"):\n",
    "            kl_divergence = self.kld(latent_mu, latent_sigma, prior_mu, prior_sigma)\n",
    "            reconstruction_loss = self.binaryXent(reconst, x)\n",
    "            cost = tf.reduce_mean(kl_divergence + reconstruction_loss)\n",
    "            \n",
    "        # Defining optimization procedure.\n",
    "        with tf.variable_scope(\"Adam_optimizer\"):\n",
    "            optimizer = tf.train.AdamOptimizer(self.lr)\n",
    "            tvars = tf.trainable_variables()\n",
    "            grads_and_vars = optimizer.compute_gradients(cost, tvars)\n",
    "            clipped = [(tf.clip_by_value(grad, -5, 5), tvar) for grad, tvar in grads_and_vars]\n",
    "            train = optimizer.apply_gradients(clipped, name=\"minimize_cost\")\n",
    "        \n",
    "        return dict(\n",
    "            x=x,\n",
    "            cost=cost,\n",
    "            kld_loss=kl_divergence,\n",
    "            rec_loss=reconstruction_loss,\n",
    "            reconstruction=reconst,\n",
    "            prior_mu = prior_mu,\n",
    "            latent_mu = latent_mu,\n",
    "            train=train\n",
    "        )\n",
    "    \n",
    "    # training procedure.\n",
    "    def train(self, X, epochs):\n",
    "        # Making the saver object.\n",
    "        saver = tf.train.Saver()\n",
    "        \n",
    "        # Defining the number of batches per epoch\n",
    "        batch_num = int(np.ceil(X.n*1.0/X.batch_size))\n",
    "        \n",
    "        e = 0\n",
    "        while e < epochs:\n",
    "            epoch_cost = {\"kld\":[], \"rec\":[], \"cost\":[]}\n",
    "            \n",
    "            if e == epochs-1: self.latent_record = {\"z\":[], \"y\":[]}\n",
    "            \n",
    "            for i in range(batch_num):\n",
    "                #Training happens here.\n",
    "                batch = X.next()\n",
    "                feed_dict = {self.ops[\"x\"]: batch[0]}\n",
    "                ops_to_run = [self.ops[\"reconstruction\"],\n",
    "                              self.ops[\"cost\"],\n",
    "                              self.ops[\"kld_loss\"],\n",
    "                              self.ops[\"rec_loss\"],\n",
    "                              self.ops[\"latent_mu\"],\n",
    "                              self.ops[\"prior_mu\"],\n",
    "                              self.ops[\"train\"]]\n",
    "                \n",
    "                reconstruction, cost, kld, rec, lmu, pmu, _= self.sesh.run(ops_to_run, feed_dict)\n",
    "                \n",
    "                # Record necessary data\n",
    "                if e == epochs-1: self.record[\"x_\"] = self.record[\"x_\"] + [_ for _ in reconstruction]\n",
    "                if e == epochs-1: self.record[\"latent_mu\"] = self.record[\"latent_mu\"] + [_ for _ in lmu]\n",
    "                if e == epochs-1: self.record[\"prior_mu\"] = self.record[\"prior_mu\"] + [_ for _ in pmu]\n",
    "                \n",
    "                # Record error terms\n",
    "                epoch_cost[\"kld\"].append(np.mean(kld))\n",
    "                epoch_cost[\"rec\"].append(np.mean(rec))\n",
    "                epoch_cost[\"cost\"].append(cost)\n",
    "            \n",
    "            #Record statistics\n",
    "            self.e+=1\n",
    "            e+= 1\n",
    "            self.learning_curve.append(epoch_cost)\n",
    "            \n",
    "            print \"Epoch:\"+str(self.e), \"train_cost:\", np.mean(epoch_cost[\"cost\"]),\n",
    "            print \"(kld:\", np.mean(epoch_cost[\"kld\"]), \", rec:\", np.mean(epoch_cost[\"rec\"]), \")\"\n",
    "            \n",
    "    # KLD for latent regularization   \n",
    "    def kld(self, mu_p, sigma_p, mu_q=None, sigma_q=None, offset=1e-7):\n",
    "        if mu_q == None: mu_q=tf.zeros((self.batchsize, 2))\n",
    "        if sigma_q == None: sigma_q = tf.ones((self.batchsize, 2))\n",
    "        with tf.variable_scope(\"KLD\"):\n",
    "            sigma_p_ = tf.maximum(offset, sigma_p)\n",
    "            sigma_q_ = tf.maximum(offset, sigma_q)\n",
    "            return tf.reduce_sum(0.5*(2*tf.log(sigma_q_)-2*tf.log(sigma_p_)\n",
    "                                      +(tf.square(sigma_p_)+tf.square(mu_p-mu_q))/tf.square(sigma_q_)-1), 2)\n",
    "    \n",
    "    # Binary crossentropy loss for reconstruction error.\n",
    "    def binaryXent(self, pred, y, offset=1e-7):\n",
    "        with tf.variable_scope(\"BinearyXent\"):\n",
    "            obs_ = tf.clip_by_value(pred, offset, 1 - offset)\n",
    "            return -tf.reduce_sum(y * tf.log(obs_) + (1 - y) * tf.log(1 - obs_), 2)\n",
    "        \n",
    "    "
   ]
  },
  {
   "cell_type": "markdown",
   "metadata": {},
   "source": [
    "# Training"
   ]
  },
  {
   "cell_type": "code",
   "execution_count": 75,
   "metadata": {
    "collapsed": true
   },
   "outputs": [],
   "source": [
    "model = VRNN()"
   ]
  },
  {
   "cell_type": "code",
   "execution_count": 76,
   "metadata": {},
   "outputs": [
    {
     "name": "stdout",
     "output_type": "stream",
     "text": [
      "Epoch:1 train_cost: 2.90811e+08 (kld: 2.90811e+08 , rec: 8.77607 )\n",
      "Epoch:2 train_cost: 5.45994 (kld: 0.00217467 , rec: 5.45776 )\n",
      "Epoch:3 train_cost: 4.32218 (kld: 0.00134696 , rec: 4.32083 )\n",
      "Epoch:4 train_cost: 3.92652 (kld: 0.00284138 , rec: 3.92368 )\n",
      "Epoch:5 train_cost: 3.73385 (kld: 0.00185573 , rec: 3.73199 )\n",
      "Epoch:6 train_cost: 3.61599 (kld: 0.00155231 , rec: 3.61443 )\n",
      "Epoch:7 train_cost: 3.53681 (kld: 0.00146312 , rec: 3.53535 )\n",
      "Epoch:8 train_cost: 3.48308 (kld: 0.00140593 , rec: 3.48167 )\n",
      "Epoch:9 train_cost: 3.43669 (kld: 0.00152562 , rec: 3.43516 )\n",
      "Epoch:10 train_cost: 3.40604 (kld: 0.00131246 , rec: 3.40472 )\n",
      "Epoch:11 train_cost: 3.37753 (kld: 0.00257541 , rec: 3.37495 )\n",
      "Epoch:12 train_cost: 3.35295 (kld: 0.00196217 , rec: 3.35099 )\n",
      "Epoch:13 train_cost: 3.33349 (kld: 0.00186078 , rec: 3.33162 )\n",
      "Epoch:14 train_cost: 3.31279 (kld: 0.00181519 , rec: 3.31097 )\n",
      "Epoch:15 train_cost: 3.30141 (kld: 0.00298549 , rec: 3.29843 )\n",
      "Epoch:16 train_cost: 3.2857 (kld: 0.00296807 , rec: 3.28274 )\n",
      "Epoch:17 train_cost: 3.27476 (kld: 0.00263691 , rec: 3.27212 )\n",
      "Epoch:18 train_cost: 3.26255 (kld: 0.00254878 , rec: 3.26 )\n",
      "Epoch:19 train_cost: 3.25428 (kld: 0.0025129 , rec: 3.25176 )\n",
      "Epoch:20 train_cost: 3.24539 (kld: 0.00250175 , rec: 3.24289 )\n"
     ]
    }
   ],
   "source": [
    "model.train(train_bf, 20)"
   ]
  },
  {
   "cell_type": "code",
   "execution_count": 118,
   "metadata": {},
   "outputs": [
    {
     "name": "stdout",
     "output_type": "stream",
     "text": [
      "[[-0.07048871  0.17742273]\n",
      " [-0.07048871  0.17742273]\n",
      " [-0.07048871  0.17742273]\n",
      " [-0.07048871  0.17742273]\n",
      " [-0.07048871  0.17742273]\n",
      " [-0.07048871  0.17742273]\n",
      " [-0.07048871  0.17742273]\n",
      " [-0.07048871  0.17742273]\n",
      " [-0.07048871  0.17742273]\n",
      " [-0.07048871  0.17742273]\n",
      " [-0.07048871  0.17742273]\n",
      " [-0.07048871  0.17742273]\n",
      " [-0.07048871  0.17742273]\n",
      " [-0.07048871  0.17742273]\n",
      " [-0.07048871  0.17742273]\n",
      " [-0.07048871  0.17742273]\n",
      " [-0.07048871  0.17742273]\n",
      " [-0.07048871  0.17742273]\n",
      " [-0.07048871  0.17742273]\n",
      " [-0.07048871  0.17742273]\n",
      " [-0.07048871  0.17742273]\n",
      " [-0.07048871  0.17742273]\n",
      " [-0.07048871  0.17742273]\n",
      " [-0.07048871  0.17742273]\n",
      " [-0.07048871  0.17742273]\n",
      " [-0.07048871  0.17742273]\n",
      " [-0.07048871  0.17742273]\n",
      " [-0.07048871  0.17742273]]\n",
      "[[-0.070523   0.1772947]\n",
      " [-0.070523   0.1772947]\n",
      " [-0.070523   0.1772947]\n",
      " [-0.070523   0.1772947]\n",
      " [-0.070523   0.1772947]\n",
      " [-0.070523   0.1772947]\n",
      " [-0.070523   0.1772947]\n",
      " [-0.070523   0.1772947]\n",
      " [-0.070523   0.1772947]\n",
      " [-0.070523   0.1772947]\n",
      " [-0.070523   0.1772947]\n",
      " [-0.070523   0.1772947]\n",
      " [-0.070523   0.1772947]\n",
      " [-0.070523   0.1772947]\n",
      " [-0.070523   0.1772947]\n",
      " [-0.070523   0.1772947]\n",
      " [-0.070523   0.1772947]\n",
      " [-0.070523   0.1772947]\n",
      " [-0.070523   0.1772947]\n",
      " [-0.070523   0.1772947]\n",
      " [-0.070523   0.1772947]\n",
      " [-0.070523   0.1772947]\n",
      " [-0.070523   0.1772947]\n",
      " [-0.070523   0.1772947]\n",
      " [-0.070523   0.1772947]\n",
      " [-0.070523   0.1772947]\n",
      " [-0.070523   0.1772947]\n",
      " [-0.070523   0.1772947]]\n"
     ]
    }
   ],
   "source": [
    "index = np.random.randint(45000)\n",
    "\n",
    "print model.record[\"latent_mu\"][index]\n",
    "print model.record[\"prior_mu\"][index]"
   ]
  },
  {
   "cell_type": "code",
   "execution_count": 89,
   "metadata": {},
   "outputs": [
    {
     "data": {
      "image/png": "[encoded data removed]",
      "text/plain": [
       "<matplotlib.figure.Figure at 0x7fbe32156fd0>"
      ]
     },
     "metadata": {},
     "output_type": "display_data"
    }
   ],
   "source": [
    "sample = model.record[\"x_\"][np.random.randint(45000)]\n",
    "plt.figure(figsize=(2,2))\n",
    "plt.imshow(sample)\n",
    "plt.xticks([],[])\n",
    "plt.yticks([],[])\n",
    "plt.show()"
   ]
  },
  {
   "cell_type": "code",
   "execution_count": null,
   "metadata": {
    "collapsed": true
   },
   "outputs": [],
   "source": []
  },
  {
   "cell_type": "code",
   "execution_count": null,
   "metadata": {
    "collapsed": true
   },
   "outputs": [],
   "source": []
  }
 ],
 "metadata": {
  "kernelspec": {
   "display_name": "Python 2",
   "language": "python",
   "name": "python2"
  },
  "language_info": {
   "codemirror_mode": {
    "name": "ipython",
    "version": 2
   },
   "file_extension": ".py",
   "mimetype": "text/x-python",
   "name": "python",
   "nbconvert_exporter": "python",
   "pygments_lexer": "ipython2",
   "version": "2.7.14"
  }
 },
 "nbformat": 4,
 "nbformat_minor": 2
}
